{
 "cells": [
  {
   "cell_type": "markdown",
   "id": "b8505c2a-e111-448f-b095-2bf8451ed1aa",
   "metadata": {},
   "source": [
    "# First order low pass filter {-}\n",
    "\n",
    "Example 3.6"
   ]
  },
  {
   "cell_type": "markdown",
   "id": "23a9c8dc-b1f0-439e-8458-0a2651f65329",
   "metadata": {},
   "source": [
    "\\begin{equation*}\n",
    "  G(s)=\\frac{1}{1+Ts} \\rightarrow g(u)=\\frac{1}{T}e^{-u/T}\n",
    "\\end{equation*}\n",
    "\n",
    "\\begin{equation*}\n",
    "  S_f(\\omega)=A \\rightarrow R_f(\\tau)=A\\delta(\\tau)\n",
    "\\end{equation*}"
   ]
  },
  {
   "cell_type": "code",
   "execution_count": 1,
   "id": "f7ccc246-1b20-4614-b3cf-09c38d8770bc",
   "metadata": {},
   "outputs": [
    {
     "data": {
      "text/latex": [
       "$\\displaystyle \\frac{1}{T s + 1}$"
      ],
      "text/plain": [
       "1/(T*s + 1)"
      ]
     },
     "metadata": {},
     "output_type": "display_data"
    },
    {
     "data": {
      "text/latex": [
       "$\\displaystyle \\frac{e^{- \\frac{u}{T}}}{T}$"
      ],
      "text/plain": [
       "exp(-u/T)/T"
      ]
     },
     "metadata": {},
     "output_type": "display_data"
    }
   ],
   "source": [
    "from sympy import symbols, integrate, exp, simplify, inverse_laplace_transform\n",
    "\n",
    "s, u, v, T, A = symbols('s u v T A', positive=True)\n",
    "t = symbols('tau')\n",
    "\n",
    "G = 1/(1 + T*s)\n",
    "display(G)\n",
    "\n",
    "gu = inverse_laplace_transform(G, s, u)\n",
    "gv = inverse_laplace_transform(G, s, v)\n",
    "display(gu)"
   ]
  },
  {
   "cell_type": "code",
   "execution_count": 2,
   "id": "304bc987-bd73-4c9d-bff8-0b8805f56a05",
   "metadata": {},
   "outputs": [
    {
     "data": {
      "text/latex": [
       "$\\displaystyle A$"
      ],
      "text/plain": [
       "A"
      ]
     },
     "metadata": {},
     "output_type": "display_data"
    },
    {
     "data": {
      "text/latex": [
       "$\\displaystyle A \\delta\\left(\\tau\\right)$"
      ],
      "text/plain": [
       "A*DiracDelta(tau)"
      ]
     },
     "metadata": {},
     "output_type": "display_data"
    }
   ],
   "source": [
    "Sf = A\n",
    "display(Sf)\n",
    "\n",
    "Rf = inverse_laplace_transform(Sf, s, t)\n",
    "display(Rf)"
   ]
  },
  {
   "cell_type": "code",
   "execution_count": 3,
   "id": "1ffc23d6-87dd-4656-b9b3-939b0e3d45c0",
   "metadata": {},
   "outputs": [
    {
     "data": {
      "text/latex": [
       "$\\displaystyle \\frac{A \\left(e^{\\frac{\\tau}{T}} - 1\\right) e^{- \\frac{\\tau + v}{T}} \\delta\\left(\\tau\\right)}{T}$"
      ],
      "text/plain": [
       "A*(exp(tau/T) - 1)*exp(-(tau + v)/T)*DiracDelta(tau)/T"
      ]
     },
     "metadata": {},
     "output_type": "display_data"
    }
   ],
   "source": [
    "EX2 = integrate(gu*gv*Rf, [u, 0, t])\n",
    "display(simplify(EX2))"
   ]
  }
 ],
 "metadata": {
  "kernelspec": {
   "display_name": "Python 3 (ipykernel)",
   "language": "python",
   "name": "python3"
  },
  "language_info": {
   "codemirror_mode": {
    "name": "ipython",
    "version": 3
   },
   "file_extension": ".py",
   "mimetype": "text/x-python",
   "name": "python",
   "nbconvert_exporter": "python",
   "pygments_lexer": "ipython3",
   "version": "3.12.2"
  }
 },
 "nbformat": 4,
 "nbformat_minor": 5
}
