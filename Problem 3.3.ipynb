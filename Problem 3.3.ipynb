{
 "cells": [
  {
   "cell_type": "markdown",
   "id": "c549c101-56a5-4962-942f-6ca4422f8ccc",
   "metadata": {},
   "source": [
    "# Solution {-}\n",
    "Factor spectral density function $S(s)$:"
   ]
  },
  {
   "cell_type": "code",
   "execution_count": 1,
   "id": "a309ebe4-540b-47f4-aaf8-3ce20eb66ac6",
   "metadata": {},
   "outputs": [
    {
     "data": {
      "text/latex": [
       "$\\displaystyle \\frac{1}{K + s}$"
      ],
      "text/plain": [
       "1/(K + s)"
      ]
     },
     "metadata": {},
     "output_type": "display_data"
    }
   ],
   "source": [
    "from sympy import symbols, Lambda, sqrt, pi, integrate, oo\n",
    "\n",
    "s, sigma, beta, K = symbols('s sigma beta K')\n",
    "\n",
    "# Spectral density Sf in s-domain from autocorrelation function R in t-domain, ref. table A2\n",
    "Sf = (2*sigma**2*beta)/(-s**2 + beta**2)\n",
    "\n",
    "# Transfer function from feedback system\n",
    "G = Lambda(s, 1/(s + K))\n",
    "display(G(s))"
   ]
  },
  {
   "cell_type": "code",
   "execution_count": 2,
   "id": "0947bffb-5d90-4b15-becc-d3a7bb5d5253",
   "metadata": {},
   "outputs": [
    {
     "data": {
      "text/latex": [
       "$\\displaystyle \\frac{2 \\beta \\sigma^{2}}{\\left(K - s\\right) \\left(K + s\\right) \\left(\\beta^{2} - s^{2}\\right)}$"
      ],
      "text/plain": [
       "2*beta*sigma**2/((K - s)*(K + s)*(beta**2 - s**2))"
      ]
     },
     "metadata": {},
     "output_type": "display_data"
    }
   ],
   "source": [
    "# Computing spectral density of output Sx\n",
    "Sx = G(s)*G(-s)*Sf\n",
    "display(Sx)"
   ]
  },
  {
   "cell_type": "markdown",
   "id": "44efd140-61f4-4614-9b08-a9f93ea5f367",
   "metadata": {},
   "source": [
    "Spectral factorization:\n",
    "\\begin{equation*}\n",
    "  S_x(s) = \\frac{\\sqrt{2 \\sigma^2 \\beta}}{(s + \\beta)(s + K)} \\cdot \\frac{\\sqrt{2 \\sigma^2 \\beta}}{(-s + \\beta)(-s + K)}\n",
    "\\end{equation*}\n",
    "\n",
    "Integration tables:\n",
    "\\begin{align*}\n",
    "  n =& 2 \\\\\n",
    "  c_1 =& 0, \\: c_0 = \\sqrt{2 \\sigma^2 \\beta} \\\\\n",
    "  d_2 =& 1, \\: d_1 = \\beta + K, \\: d_0 = \\beta K \\\\\n",
    "\\end{align*}\n",
    "\n",
    "Mean square value:\n",
    "\\begin{equation*}\n",
    "  E[x^2] = \\frac{c_1^2 d_0 + c_0^2 d_2}{2 d_0 d_1 d_2} = \\frac{2 \\sigma^2 \\beta}{2 \\beta K (\\beta + K)} = \\frac{\\sigma^2}{K(\\beta + K)}\n",
    "\\end{equation*}"
   ]
  }
 ],
 "metadata": {
  "kernelspec": {
   "display_name": "Python 3 (ipykernel)",
   "language": "python",
   "name": "python3"
  },
  "language_info": {
   "codemirror_mode": {
    "name": "ipython",
    "version": 3
   },
   "file_extension": ".py",
   "mimetype": "text/x-python",
   "name": "python",
   "nbconvert_exporter": "python",
   "pygments_lexer": "ipython3",
   "version": "3.12.2"
  }
 },
 "nbformat": 4,
 "nbformat_minor": 5
}
