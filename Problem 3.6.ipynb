{
 "cells": [
  {
   "cell_type": "markdown",
   "id": "5b62d2f4-6096-465a-bfc1-b0ff3b07c1e9",
   "metadata": {},
   "source": [
    "# Solution {-}\n",
    "Factor spectral density function $S_X(s)$:"
   ]
  },
  {
   "cell_type": "code",
   "execution_count": 1,
   "id": "ed26c3ff-97ed-4175-9164-8de6bee93303",
   "metadata": {},
   "outputs": [
    {
     "data": {
      "text/latex": [
       "$\\displaystyle \\frac{1 - s^{2}}{s^{4} - 8 s^{2} + 16}$"
      ],
      "text/plain": [
       "(1 - s**2)/(s**4 - 8*s**2 + 16)"
      ]
     },
     "metadata": {},
     "output_type": "display_data"
    }
   ],
   "source": [
    "from sympy import symbols, factor\n",
    "\n",
    "s = symbols('s')\n",
    "\n",
    "Sx = (-s**2 + 1)/(s**4 - 8*s**2 + 16)\n",
    "display(Sx)"
   ]
  },
  {
   "cell_type": "code",
   "execution_count": 2,
   "id": "6718c3c3-51de-40be-8346-f3b8a39bbfbc",
   "metadata": {},
   "outputs": [
    {
     "data": {
      "text/latex": [
       "$\\displaystyle - \\frac{\\left(s - 1\\right) \\left(s + 1\\right)}{\\left(s - 2\\right)^{2} \\left(s + 2\\right)^{2}}$"
      ],
      "text/plain": [
       "-(s - 1)*(s + 1)/((s - 2)**2*(s + 2)**2)"
      ]
     },
     "execution_count": 2,
     "metadata": {},
     "output_type": "execute_result"
    }
   ],
   "source": [
    "factor(Sx, s)"
   ]
  },
  {
   "cell_type": "markdown",
   "id": "5d783163-326d-4d9e-90a0-5fe23c950298",
   "metadata": {},
   "source": [
    "\\begin{align}\n",
    "  S_X(s)=&\\frac{s+1}{(s+2)^2} \\cdot \\frac{(-s)+1}{((-s)+2)^2} \\cdot 1 \\\\\n",
    "  G(s)=&\\frac{s+1}{(s+2)^2}\n",
    "\\end{align}"
   ]
  }
 ],
 "metadata": {
  "kernelspec": {
   "display_name": "Python 3 (ipykernel)",
   "language": "python",
   "name": "python3"
  },
  "language_info": {
   "codemirror_mode": {
    "name": "ipython",
    "version": 3
   },
   "file_extension": ".py",
   "mimetype": "text/x-python",
   "name": "python",
   "nbconvert_exporter": "python",
   "pygments_lexer": "ipython3",
   "version": "3.10.8"
  }
 },
 "nbformat": 4,
 "nbformat_minor": 5
}
