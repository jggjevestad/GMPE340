{
 "cells": [
  {
   "cell_type": "markdown",
   "metadata": {},
   "source": [
    "# Solution {-}\n",
    "\n",
    "System driven by two independent Gaussian white sources."
   ]
  },
  {
   "cell_type": "code",
   "execution_count": 1,
   "metadata": {},
   "outputs": [
    {
     "data": {
      "text/latex": [
       "$\\displaystyle \\left[\\begin{matrix}1 & \\Delta{t}\\\\0 & 1\\end{matrix}\\right]$"
      ],
      "text/plain": [
       "Matrix([\n",
       "[1, \\Delta{t}],\n",
       "[0,         1]])"
      ]
     },
     "execution_count": 1,
     "metadata": {},
     "output_type": "execute_result"
    }
   ],
   "source": [
    "from sympy import Matrix, symbols, sqrt, eye, integrate\n",
    "\n",
    "dt, q1, q2 = symbols('\\Delta{t} q1 q2')\n",
    "\n",
    "F = Matrix([[0, 1],\n",
    "            [0, 0]])\n",
    "\n",
    "G = Matrix([[sqrt(q2), 0],\n",
    "            [0, sqrt(q1)]])\n",
    "\n",
    "# Transition matrix\n",
    "phi = eye(2) + F*dt\n",
    "phi"
   ]
  },
  {
   "cell_type": "code",
   "execution_count": 2,
   "metadata": {},
   "outputs": [
    {
     "data": {
      "text/latex": [
       "$\\displaystyle \\left[\\begin{matrix}\\frac{\\Delta{t}^{3} q_{1}}{3} + \\Delta{t} q_{2} & \\frac{\\Delta{t}^{2} q_{1}}{2}\\\\\\frac{\\Delta{t}^{2} q_{1}}{2} & \\Delta{t} q_{1}\\end{matrix}\\right]$"
      ],
      "text/plain": [
       "Matrix([\n",
       "[\\Delta{t}**3*q1/3 + \\Delta{t}*q2, \\Delta{t}**2*q1/2],\n",
       "[               \\Delta{t}**2*q1/2,      \\Delta{t}*q1]])"
      ]
     },
     "execution_count": 2,
     "metadata": {},
     "output_type": "execute_result"
    }
   ],
   "source": [
    "# Process noise matrix\n",
    "Q = integrate(phi@G@G.T@phi.T, dt)\n",
    "Q"
   ]
  },
  {
   "cell_type": "code",
   "execution_count": 3,
   "metadata": {},
   "outputs": [
    {
     "name": "stdout",
     "output_type": "stream",
     "text": [
      "[[1.0 1.0]\n",
      " [0.0 1.0]]\n",
      "[[17.3 2.0]\n",
      " [2.0 4.0]]\n"
     ]
    }
   ],
   "source": [
    "from numpy import array, sqrt, set_printoptions\n",
    "from lib.vanloan import numeval\n",
    "set_printoptions(formatter={'float': lambda x: \"{0:0.1f}\".format(x)})\n",
    "\n",
    "F = array([[0, 1],\n",
    "           [0, 0]])\n",
    "\n",
    "G = array([[sqrt(16), 0],\n",
    "           [0, sqrt(4)]])\n",
    "\n",
    "# Numerical evaluation (Van Loan)\n",
    "[phi, Q] = numeval(F, G, 1)\n",
    "print(phi)\n",
    "print(Q)"
   ]
  }
 ],
 "metadata": {
  "kernelspec": {
   "display_name": "Python 3 (ipykernel)",
   "language": "python",
   "name": "python3"
  },
  "language_info": {
   "codemirror_mode": {
    "name": "ipython",
    "version": 3
   },
   "file_extension": ".py",
   "mimetype": "text/x-python",
   "name": "python",
   "nbconvert_exporter": "python",
   "pygments_lexer": "ipython3",
   "version": "3.12.2"
  }
 },
 "nbformat": 4,
 "nbformat_minor": 4
}
