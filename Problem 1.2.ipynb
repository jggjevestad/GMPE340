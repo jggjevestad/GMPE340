{
 "cells": [
  {
   "cell_type": "markdown",
   "metadata": {},
   "source": [
    "# Solution {-}\n",
    "\n",
    "In the game of blackjack, the player initially dealt two cards from a deck of ordinary playing cards.\n",
    "\n",
    " 1. What is the probability of being dealt any ace together with any face card or a 10?"
   ]
  },
  {
   "cell_type": "code",
   "execution_count": 1,
   "metadata": {},
   "outputs": [
    {
     "name": "stdout",
     "output_type": "stream",
     "text": [
      "The probability of being dealt any ace together with any face card or a 10 is: 0.048265 (4.8%)\n"
     ]
    }
   ],
   "source": [
    "from numpy import arange\n",
    "from itertools import combinations\n",
    "\n",
    "deck = arange(0, 52)\n",
    "\n",
    "hands = len(list(combinations(deck, 2)))\n",
    "prob = (4*16)/hands\n",
    "\n",
    "print(f\"The probability of being dealt any ace together with any face card or a 10 is: {prob:.6f} ({prob*100:.1f}%)\")"
   ]
  },
  {
   "cell_type": "markdown",
   "metadata": {},
   "source": [
    "### What is the difference between combinations and permutations?"
   ]
  },
  {
   "cell_type": "code",
   "execution_count": 2,
   "metadata": {},
   "outputs": [
    {
     "name": "stdout",
     "output_type": "stream",
     "text": [
      "[0 1 2]\n",
      "[(0, 1), (0, 2), (1, 0), (1, 2), (2, 0), (2, 1)]\n",
      "[(0, 1), (0, 2), (1, 2)]\n"
     ]
    }
   ],
   "source": [
    "from itertools import permutations\n",
    "\n",
    "hand = arange(0, 3)\n",
    "print(hand)\n",
    "\n",
    "perm = list(permutations(hand, 2))\n",
    "print(perm)\n",
    "\n",
    "comb = list(combinations(hand, 2))\n",
    "print(comb)"
   ]
  }
 ],
 "metadata": {
  "kernelspec": {
   "display_name": "Python 3 (ipykernel)",
   "language": "python",
   "name": "python3"
  },
  "language_info": {
   "codemirror_mode": {
    "name": "ipython",
    "version": 3
   },
   "file_extension": ".py",
   "mimetype": "text/x-python",
   "name": "python",
   "nbconvert_exporter": "python",
   "pygments_lexer": "ipython3",
   "version": "3.10.8"
  }
 },
 "nbformat": 4,
 "nbformat_minor": 4
}
