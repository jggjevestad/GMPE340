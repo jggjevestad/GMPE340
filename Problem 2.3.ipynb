{
 "cells": [
  {
   "cell_type": "markdown",
   "metadata": {},
   "source": [
    "# Solution {-}\n",
    "\n",
    "Given the following spectral density function:\n",
    "\n",
    "\\begin{equation*}\n",
    "  S(j\\omega)=\\delta(\\omega)+\\frac{1}{2}\\delta(\\omega-\\omega_0)+\\frac{1}{2}\\delta(\\omega+\\omega_0)+\\frac{2}{\\omega^2+1}\n",
    "\\end{equation*}\n",
    "\n",
    "1. Find the autocorrelation function\n",
    "\n",
    "\\begin{align*}\n",
    "  R(\\tau)=&\\frac{1}{2\\pi}+\\frac{1}{4\\pi}e^{j\\omega_0\\tau}+\\frac{1}{4\\pi}e^{-j\\omega_0\\tau}+e^{-\\tau}\\\\\n",
    "         =&\\frac{1}{2\\pi}+\\frac{1}{2\\pi}\\cos\\omega_0\\tau+e^{-\\tau}\n",
    "\\end{align*}"
   ]
  },
  {
   "cell_type": "code",
   "execution_count": 1,
   "metadata": {},
   "outputs": [
    {
     "data": {
      "text/latex": [
       "$\\displaystyle \\delta\\left(\\omega\\right) + 0.5 \\delta\\left(\\omega - \\omega_{0}\\right) + 0.5 \\delta\\left(\\omega + \\omega_{0}\\right) + \\frac{2}{\\omega^{2} + 1}$"
      ],
      "text/plain": [
       "DiracDelta(omega) + 0.5*DiracDelta(omega - omega_0) + 0.5*DiracDelta(omega + omega_0) + 2/(omega**2 + 1)"
      ]
     },
     "metadata": {},
     "output_type": "display_data"
    }
   ],
   "source": [
    "from sympy import symbols, inverse_fourier_transform, DiracDelta, pi\n",
    "\n",
    "t, w,  w0 = symbols('tau omega omega_0')\n",
    "\n",
    "S1 = DiracDelta(w)\n",
    "S2 = 1/2*DiracDelta(w - w0) + 1/2*DiracDelta(w + w0)\n",
    "S3 = 2/(w**2 + 1)\n",
    "S = S1 + S2 + S3\n",
    "display(S)"
   ]
  },
  {
   "cell_type": "code",
   "execution_count": 2,
   "metadata": {},
   "outputs": [
    {
     "data": {
      "text/latex": [
       "$\\displaystyle \\frac{1}{2 \\pi}$"
      ],
      "text/plain": [
       "1/(2*pi)"
      ]
     },
     "metadata": {},
     "output_type": "display_data"
    }
   ],
   "source": [
    "R1 = 1/(2*pi)*inverse_fourier_transform(S1, w, t)\n",
    "display(R1)"
   ]
  },
  {
   "cell_type": "code",
   "execution_count": 3,
   "metadata": {
    "tags": []
   },
   "outputs": [
    {
     "data": {
      "text/latex": [
       "$\\displaystyle \\frac{\\cos{\\left(2 \\pi \\omega_{0} \\tau \\right)}}{2 \\pi}$"
      ],
      "text/plain": [
       "cos(2*pi*omega_0*tau)/(2*pi)"
      ]
     },
     "metadata": {},
     "output_type": "display_data"
    }
   ],
   "source": [
    "R2 = 1/(2*pi)*inverse_fourier_transform(S2, w, t)\n",
    "display(R2)"
   ]
  },
  {
   "cell_type": "code",
   "execution_count": 4,
   "metadata": {},
   "outputs": [
    {
     "data": {
      "text/latex": [
       "$\\displaystyle e^{- 2 \\pi \\tau}$"
      ],
      "text/plain": [
       "exp(-2*pi*tau)"
      ]
     },
     "metadata": {},
     "output_type": "display_data"
    }
   ],
   "source": [
    "R3 = 1/(2*pi)*inverse_fourier_transform(S3, w, t)\n",
    "display(R3)"
   ]
  },
  {
   "cell_type": "code",
   "execution_count": 5,
   "metadata": {},
   "outputs": [
    {
     "data": {
      "text/latex": [
       "$\\displaystyle \\frac{\\cos{\\left(2 \\pi \\omega_{0} \\tau \\right)}}{2 \\pi} + \\frac{1}{2 \\pi} + e^{- 2 \\pi \\tau}$"
      ],
      "text/plain": [
       "cos(2*pi*omega_0*tau)/(2*pi) + 1/(2*pi) + exp(-2*pi*tau)"
      ]
     },
     "metadata": {},
     "output_type": "display_data"
    }
   ],
   "source": [
    "R = R1 + R2 + R3\n",
    "display(R)"
   ]
  }
 ],
 "metadata": {
  "kernelspec": {
   "display_name": "Python 3 (ipykernel)",
   "language": "python",
   "name": "python3"
  },
  "language_info": {
   "codemirror_mode": {
    "name": "ipython",
    "version": 3
   },
   "file_extension": ".py",
   "mimetype": "text/x-python",
   "name": "python",
   "nbconvert_exporter": "python",
   "pygments_lexer": "ipython3",
   "version": "3.10.8"
  }
 },
 "nbformat": 4,
 "nbformat_minor": 4
}
