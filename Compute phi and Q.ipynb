{
 "cells": [
  {
   "cell_type": "code",
   "execution_count": 7,
   "id": "d4feb8be-ab89-4994-95a7-14907c46e9c1",
   "metadata": {},
   "outputs": [
    {
     "data": {
      "text/latex": [
       "$\\displaystyle \\left[\\begin{matrix}0 & 1\\\\0 & 0\\end{matrix}\\right]$"
      ],
      "text/plain": [
       "Matrix([\n",
       "[0, 1],\n",
       "[0, 0]])"
      ]
     },
     "metadata": {},
     "output_type": "display_data"
    }
   ],
   "source": [
    "from sympy import Symbol, symbols, Matrix, sqrt, integrate, eye\n",
    "\n",
    "q, beta, sigma = symbols('q beta sigma')\n",
    "dt = Symbol(r'\\Delta t')\n",
    "\n",
    "F = Matrix([[0, 1],\n",
    "            [0, 0]])\n",
    "display(F)"
   ]
  },
  {
   "cell_type": "code",
   "execution_count": 8,
   "id": "6d164804-03ba-45ce-a926-62dff4bd1be0",
   "metadata": {},
   "outputs": [
    {
     "data": {
      "text/latex": [
       "$\\displaystyle \\left[\\begin{matrix}0\\\\\\sqrt{q}\\end{matrix}\\right]$"
      ],
      "text/plain": [
       "Matrix([\n",
       "[      0],\n",
       "[sqrt(q)]])"
      ]
     },
     "metadata": {},
     "output_type": "display_data"
    }
   ],
   "source": [
    "G = Matrix([[0],\n",
    "            [sqrt(q)]])\n",
    "display(G)"
   ]
  },
  {
   "cell_type": "code",
   "execution_count": 9,
   "id": "081d9c73-a05d-4946-9f23-e66d918d0ed4",
   "metadata": {},
   "outputs": [
    {
     "data": {
      "text/latex": [
       "$\\displaystyle \\left[\\begin{matrix}1 & \\Delta t\\\\0 & 1\\end{matrix}\\right]$"
      ],
      "text/plain": [
       "Matrix([\n",
       "[1, \\Delta t],\n",
       "[0,        1]])"
      ]
     },
     "metadata": {},
     "output_type": "display_data"
    }
   ],
   "source": [
    "phi = eye(2) + F*dt\n",
    "display(phi)"
   ]
  },
  {
   "cell_type": "code",
   "execution_count": 10,
   "id": "c1278540-e2ef-4d60-b0e2-0be6659d9f4b",
   "metadata": {},
   "outputs": [
    {
     "data": {
      "text/latex": [
       "$\\displaystyle \\left[\\begin{matrix}\\frac{\\Delta t^{3} q}{3} & \\frac{\\Delta t^{2} q}{2}\\\\\\frac{\\Delta t^{2} q}{2} & \\Delta t q\\end{matrix}\\right]$"
      ],
      "text/plain": [
       "Matrix([\n",
       "[\\Delta t**3*q/3, \\Delta t**2*q/2],\n",
       "[\\Delta t**2*q/2,      \\Delta t*q]])"
      ]
     },
     "metadata": {},
     "output_type": "display_data"
    }
   ],
   "source": [
    "Q = integrate(phi@G@G.T@phi.T, dt)\n",
    "display(Q)"
   ]
  }
 ],
 "metadata": {
  "kernelspec": {
   "display_name": "Python 3 (ipykernel)",
   "language": "python",
   "name": "python3"
  },
  "language_info": {
   "codemirror_mode": {
    "name": "ipython",
    "version": 3
   },
   "file_extension": ".py",
   "mimetype": "text/x-python",
   "name": "python",
   "nbconvert_exporter": "python",
   "pygments_lexer": "ipython3",
   "version": "3.12.2"
  }
 },
 "nbformat": 4,
 "nbformat_minor": 5
}
