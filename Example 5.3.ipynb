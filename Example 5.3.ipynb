{
 "cells": [
  {
   "cell_type": "code",
   "execution_count": 1,
   "id": "591c1ba7-de88-47d2-b3ce-134550de053c",
   "metadata": {},
   "outputs": [
    {
     "data": {
      "application/vnd.jupyter.widget-view+json": {
       "model_id": "336a4c3755d243c893a967c35e6a444d",
       "version_major": 2,
       "version_minor": 0
      },
      "text/plain": [
       "interactive(children=(FloatSlider(value=1.0, description='r', max=5.0), FloatSlider(value=0.1, description='be…"
      ]
     },
     "metadata": {},
     "output_type": "display_data"
    }
   ],
   "source": [
    "from numpy import array, eye, random, arange, sqrt, exp\n",
    "from numpy.linalg import inv\n",
    "import matplotlib.pyplot as plt\n",
    "\n",
    "import ipywidgets as widgets\n",
    "@widgets.interact(r = (0, 5, 0.1),          # [meter]\n",
    "                  beta = (0.0, 0.5, 0.01),  # [rad/second]\n",
    "                  sigmax = (0, 5, 0.1))     # [meter]\n",
    "\n",
    "# Main\n",
    "def main(r = 1, beta = 0.1, sigmax = 1):\n",
    "    \n",
    "    # System parameters\n",
    "    dt = 1                   # [second]\n",
    "    samples = 100            # number of samples\n",
    "\n",
    "    # Filter parameters\n",
    "    #sigmax = 1               # [meter]\n",
    "    #beta = .1                # [radian/second]\n",
    "\n",
    "    # System\n",
    "    phi = array([[exp(-beta*dt)]])\n",
    "    H = array([[1]])\n",
    "    R = array([[r**2]])                            # [meter^2]\n",
    "    Q = array([[sigmax**2*(1 - exp(-2*beta*dt))]]) # [meter^2/second]\n",
    "\n",
    "    # Initial values\n",
    "    x = array([[0]])         # [meter]\n",
    "    P = array([[sigmax**2]]) # [meter^2]\n",
    "\n",
    "    # Plot vectors\n",
    "    x_all = []; P_all = []; z_all = []; std = []\n",
    "\n",
    "    # Main KF loop\n",
    "    for k in range(0, samples):\n",
    "    \n",
    "        # Measurement\n",
    "        z = random.normal(0, sqrt(R[0, 0]))\n",
    "    \n",
    "        # Time update\n",
    "        xp = phi@x\n",
    "        Pp = phi@P@phi.T + Q\n",
    "    \n",
    "        # Kalman gain\n",
    "        K = Pp@H.T@inv(H@Pp@H.T + R)\n",
    "    \n",
    "        # Measurement update\n",
    "        x = xp + K@(z - H@x)\n",
    "        P = (eye(1) - K@H)@Pp@(eye(1) - K@H).T + K@R@K.T\n",
    "    \n",
    "        # Accumulate plot vectors\n",
    "        x_all.append(x)\n",
    "        P_all.append(P)\n",
    "        z_all.append(z)\n",
    "\n",
    "    # Extract plot vectors\n",
    "    x_est = [x[0] for x in x_all]\n",
    "    std = [sqrt(P[0, 0]) for P in P_all]\n",
    "    \n",
    "    # Time vector\n",
    "    time = arange(0, samples)*dt\n",
    "\n",
    "    plt.title('Filter Performance')\n",
    "    plt.plot(time, z_all, 'r.', label='Measurements')\n",
    "    plt.plot(time, x_est, 'g', label='Process')\n",
    "    plt.plot(time, std, 'b', label='Standard deviation')\n",
    "    plt.plot(time, [-x for x in std], 'b')\n",
    "    plt.xlim((min(time),max(time)))\n",
    "    plt.ylim(-5, 5)\n",
    "    plt.legend(loc='lower right')\n",
    "    plt.grid()\n",
    "    plt.show()"
   ]
  }
 ],
 "metadata": {
  "kernelspec": {
   "display_name": "Python 3 (ipykernel)",
   "language": "python",
   "name": "python3"
  },
  "language_info": {
   "codemirror_mode": {
    "name": "ipython",
    "version": 3
   },
   "file_extension": ".py",
   "mimetype": "text/x-python",
   "name": "python",
   "nbconvert_exporter": "python",
   "pygments_lexer": "ipython3",
   "version": "3.12.2"
  }
 },
 "nbformat": 4,
 "nbformat_minor": 5
}
