{
 "cells": [
  {
   "cell_type": "markdown",
   "id": "914e60bd-29b5-46ec-afc6-f4349cb90969",
   "metadata": {},
   "source": [
    "# First order low pass filter {-}\n",
    "\n",
    "Example 3.1\n",
    "\n",
    "Stationary analysis (Steady State):\n",
    "\n",
    "\\begin{equation*}\n",
    "  S_x(s)=G(s)G(-s) S_f(s)\n",
    "\\end{equation*}\n",
    "\n",
    "\\begin{equation*}\n",
    "  S_x(j\\omega)=|G(j\\omega)|^2 S_f(j\\omega)\n",
    "\\end{equation*}"
   ]
  },
  {
   "cell_type": "code",
   "execution_count": 1,
   "id": "7f27cb85-310d-451c-b768-f51dc325c38f",
   "metadata": {},
   "outputs": [
    {
     "data": {
      "text/latex": [
       "$\\displaystyle \\frac{1}{- T^{2} s^{2} + 1}$"
      ],
      "text/plain": [
       "1/(-T**2*s**2 + 1)"
      ]
     },
     "metadata": {},
     "output_type": "display_data"
    }
   ],
   "source": [
    "from sympy import symbols, expand, integrate, pi, oo\n",
    "\n",
    "s, t, T = symbols('s t T', positive=True)\n",
    "w = symbols('omega')\n",
    "\n",
    "Sf = 1\n",
    "G = lambda s: 1/(1 + T*s)\n",
    "\n",
    "Sx = G(s)*G(-s)*Sf\n",
    "display(expand(Sx))"
   ]
  },
  {
   "cell_type": "markdown",
   "id": "c63066df-78b0-4506-86ee-bd92c53e632e",
   "metadata": {},
   "source": [
    "Rephrase Sx as a function of $\\omega$, i.e. $s^2=-\\omega^2$:"
   ]
  },
  {
   "cell_type": "code",
   "execution_count": 2,
   "id": "f42273d2-5266-4fa5-8753-331b21abad71",
   "metadata": {},
   "outputs": [
    {
     "data": {
      "text/latex": [
       "$\\displaystyle \\frac{1}{T^{2} \\omega^{2} + 1}$"
      ],
      "text/plain": [
       "1/(T**2*omega**2 + 1)"
      ]
     },
     "metadata": {},
     "output_type": "display_data"
    }
   ],
   "source": [
    "Sx = 1/(T**2*w**2 + 1)\n",
    "display(Sx)"
   ]
  },
  {
   "cell_type": "code",
   "execution_count": 3,
   "id": "59ee143c-adc6-4c3b-98db-66d376cf4fae",
   "metadata": {},
   "outputs": [
    {
     "data": {
      "text/latex": [
       "$\\displaystyle \\frac{1}{2 T}$"
      ],
      "text/plain": [
       "1/(2*T)"
      ]
     },
     "metadata": {},
     "output_type": "display_data"
    }
   ],
   "source": [
    "EX2 = 1/(2*pi)*integrate(Sx, [w, -oo, oo])\n",
    "display(EX2)"
   ]
  },
  {
   "cell_type": "markdown",
   "id": "05375351-d1dd-411b-b61a-7c4f063bf677",
   "metadata": {},
   "source": [
    "From integration table 3.1, we can write:\n",
    "\n",
    "\\begin{align*}\n",
    "  E(x^2)=&\\frac{1}{2\\pi j}\\int_{-j\\infty}^{j\\infty} \\frac{c(s)}{d(s)} \\frac{c(-s)}{d(-s)} ds \\\\\n",
    "        =&\\frac{1}{2\\pi j}\\int_{-j\\infty}^{j\\infty} \\frac{1}{1+Ts} \\frac{1}{1+T(-s)} ds\n",
    "\\end{align*}\n",
    "\n",
    "\\begin{align*}\n",
    "  n=&1: \\\\\n",
    "  c(s)=&1 \\rightarrow c_0=1 \\\\\n",
    "  d(s)=&1+Ts \\rightarrow d_1=T, d_0=1 \\\\\n",
    "  I_1=&\\frac{c_0^2}{2d_0d_1} \\rightarrow E(x^2)=\\frac{1}{2T}\n",
    "\\end{align*}"
   ]
  }
 ],
 "metadata": {
  "kernelspec": {
   "display_name": "Python 3 (ipykernel)",
   "language": "python",
   "name": "python3"
  },
  "language_info": {
   "codemirror_mode": {
    "name": "ipython",
    "version": 3
   },
   "file_extension": ".py",
   "mimetype": "text/x-python",
   "name": "python",
   "nbconvert_exporter": "python",
   "pygments_lexer": "ipython3",
   "version": "3.10.8"
  }
 },
 "nbformat": 4,
 "nbformat_minor": 5
}
