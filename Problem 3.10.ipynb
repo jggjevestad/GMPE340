{
 "cells": [
  {
   "cell_type": "markdown",
   "metadata": {
    "tags": []
   },
   "source": [
    "# Solution {-}\n",
    "\n",
    "A certain linear system is known to satisfy the following differential equation:\n",
    "\n",
    "\\begin{align*}\n",
    "  &\\ddot{x}+10\\dot{x}+100x=f(t)\\\\\n",
    "  &x(0)=\\dot{x}(0)=0\\\\\n",
    "\\end{align*}\n",
    "\n",
    "a) The state space differential equation for the random process can be written as:\n",
    "\n",
    "\\begin{equation*}\n",
    "  \\begin{bmatrix}\n",
    "    \\dot{x}_1\\\\\n",
    "    \\dot{x}_2\\\\\n",
    "  \\end{bmatrix} =\n",
    "  \\begin{bmatrix}\n",
    "       0 &  1\\\\\n",
    "    -100 &-10\\\\\n",
    "  \\end{bmatrix}\n",
    "  \\begin{bmatrix}\n",
    "    x_1\\\\\n",
    "    x_2\\\\\n",
    "  \\end{bmatrix}+\n",
    "  \\begin{bmatrix}\n",
    "    0\\\\\n",
    "    \\sqrt{10}\\\\\n",
    "  \\end{bmatrix} u(t)\n",
    "\\end{equation*}\n",
    "\n",
    "b) Compute the transition matrix $\\phi$ and the covariance matrix $Q$"
   ]
  },
  {
   "cell_type": "code",
   "execution_count": 9,
   "metadata": {},
   "outputs": [
    {
     "name": "stdout",
     "output_type": "stream",
     "text": [
      "[[ 0.151  0.042]\n",
      " [-4.193 -0.269]]\n",
      "[[0.004 0.009]\n",
      " [0.009 0.376]]\n"
     ]
    }
   ],
   "source": [
    "from numpy import array, sqrt, set_printoptions\n",
    "from vanloan import numeval\n",
    "\n",
    "set_printoptions(precision=3, suppress=True)\n",
    "\n",
    "# Model parameters\n",
    "dt = 0.2  # seconds\n",
    "W = 1\n",
    "\n",
    "# Dynamics matrix\n",
    "F = array([[0, 1],\n",
    "           [-100, -10]])\n",
    "\n",
    "# White noise coefficients\n",
    "G = array([[0],\n",
    "           [sqrt(10)]])\n",
    "\n",
    "# Van Loan (numeric solution)\n",
    "[phi, Q] = numeval(F, G, dt)\n",
    "\n",
    "print(phi)\n",
    "print(Q)"
   ]
  },
  {
   "cell_type": "code",
   "execution_count": 17,
   "metadata": {},
   "outputs": [
    {
     "name": "stdout",
     "output_type": "stream",
     "text": [
      "[[ 1.     0.001]\n",
      " [-0.1    0.99 ]]\n",
      "[[0.   0.  ]\n",
      " [0.   0.01]]\n"
     ]
    }
   ],
   "source": [
    "[phi, Q] = numeval(F, G, 0.001)\n",
    "print(phi)\n",
    "print(Q)"
   ]
  },
  {
   "cell_type": "code",
   "execution_count": 2,
   "metadata": {},
   "outputs": [
    {
     "data": {
      "text/latex": [
       "$\\displaystyle \\left[\\begin{matrix}\\frac{\\sqrt{3} e^{- 5 t} \\sin{\\left(5 \\sqrt{3} t \\right)}}{3} + e^{- 5 t} \\cos{\\left(5 \\sqrt{3} t \\right)} & \\frac{\\sqrt{3} e^{- 5 t} \\sin{\\left(5 \\sqrt{3} t \\right)}}{15}\\\\- \\frac{20 \\sqrt{3} e^{- 5 t} \\sin{\\left(5 \\sqrt{3} t \\right)}}{3} & - \\frac{\\sqrt{3} e^{- 5 t} \\sin{\\left(5 \\sqrt{3} t \\right)}}{3} + e^{- 5 t} \\cos{\\left(5 \\sqrt{3} t \\right)}\\end{matrix}\\right]$"
      ],
      "text/plain": [
       "Matrix([\n",
       "[sqrt(3)*exp(-5*t)*sin(5*sqrt(3)*t)/3 + exp(-5*t)*cos(5*sqrt(3)*t),                              sqrt(3)*exp(-5*t)*sin(5*sqrt(3)*t)/15],\n",
       "[                         -20*sqrt(3)*exp(-5*t)*sin(5*sqrt(3)*t)/3, -sqrt(3)*exp(-5*t)*sin(5*sqrt(3)*t)/3 + exp(-5*t)*cos(5*sqrt(3)*t)]])"
      ]
     },
     "metadata": {},
     "output_type": "display_data"
    }
   ],
   "source": [
    "# Symbolic solution\n",
    "from sympy import symbols, eye, Matrix, inverse_laplace_transform\n",
    "\n",
    "s, t = symbols('s t', positive=True)\n",
    "\n",
    "F = Matrix([[0, 1],\n",
    "            [-100, -10]])\n",
    "\n",
    "phi = inverse_laplace_transform((s*eye(2) - F).inv(), s, t)\n",
    "\n",
    "display(phi)"
   ]
  },
  {
   "cell_type": "markdown",
   "metadata": {},
   "source": [
    "c) What are the mean square value of $x(t)$ and $\\dot{x}(t)$ at t=0.2s"
   ]
  },
  {
   "cell_type": "code",
   "execution_count": 3,
   "metadata": {},
   "outputs": [
    {
     "name": "stdout",
     "output_type": "stream",
     "text": [
      "EX2_x: Q(0, 0) = 0.004\n",
      "EX2_dot_x: Q(1, 1) = 0.376\n"
     ]
    }
   ],
   "source": [
    "print(f\"EX2_x: Q(0, 0) = {Q[0, 0]:.3f}\")\n",
    "print(f\"EX2_dot_x: Q(1, 1) = {Q[1, 1]:.3f}\")"
   ]
  },
  {
   "cell_type": "markdown",
   "metadata": {},
   "source": [
    "The corresponding transfer function $G(s)$ can be written as:\n",
    "\\begin{equation*}\n",
    "  G(s) = \\frac{\\sqrt{10}}{s^2 + 10s + 100}\n",
    "\\end{equation*}\n",
    "\n",
    "Integration tables:\n",
    "\\begin{align*}\n",
    "  n =& 2 \\\\\n",
    "  c_1 =& 0, \\: c_0 = \\sqrt{10} \\\\\n",
    "  d_2 =& 1, \\: d_1 = 10, \\: d_0 = 100 \\\\\n",
    "\\end{align*}\n",
    "\n",
    "Mean square value:\n",
    "\\begin{equation*}\n",
    "  E[x^2] = \\frac{c_1^2 d_0 + c_0^2 d_2}{2 d_0 d_1 d_2} = \\frac{10}{2 \\cdot 100 \\cdot 10 \\cdot 1} = 0.005\n",
    "\\end{equation*}"
   ]
  }
 ],
 "metadata": {
  "kernelspec": {
   "display_name": "Python 3 (ipykernel)",
   "language": "python",
   "name": "python3"
  },
  "language_info": {
   "codemirror_mode": {
    "name": "ipython",
    "version": 3
   },
   "file_extension": ".py",
   "mimetype": "text/x-python",
   "name": "python",
   "nbconvert_exporter": "python",
   "pygments_lexer": "ipython3",
   "version": "3.12.2"
  }
 },
 "nbformat": 4,
 "nbformat_minor": 4
}
