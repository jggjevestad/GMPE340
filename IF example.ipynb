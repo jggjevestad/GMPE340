{
 "cells": [
  {
   "cell_type": "code",
   "execution_count": 1,
   "id": "6ef25ad1-4eca-4490-a319-d935188531e4",
   "metadata": {},
   "outputs": [],
   "source": [
    "from numpy import array, sqrt, eye, set_printoptions\n",
    "from numpy.linalg import inv\n",
    "from vanloan import numeval\n",
    "\n",
    "set_printoptions(precision=1, suppress=True)\n",
    "\n",
    "# System parameters\n",
    "dt = 5                   # Time interval [second]\n",
    "q = 0.25                 # Process noise on velocity [meter^2/second^3]\n",
    "\n",
    "# Dynamic matrix (PV-model)\n",
    "F = array([[0, 1],\n",
    "           [0, 0]])\n",
    "\n",
    "# White noise coefficients\n",
    "G = array([[0],\n",
    "           [sqrt(q)]])\n",
    "\n",
    "# Van Loan numerical solution\n",
    "phi, Q = numeval(F, G, dt)\n",
    "\n",
    "# Initial state vector\n",
    "x = array([[0],          # Position state [meter]\n",
    "           [1]])         # Velocity state [meter/second]\n",
    "\n",
    "# Initial state vector covariance matrix\n",
    "P = array([[2**2, 0],    # Position state variance [meter^2]\n",
    "           [0, 1**2]])   # Velocity state variance [(meter/second)^2]"
   ]
  },
  {
   "cell_type": "code",
   "execution_count": 2,
   "id": "3b8f2f98-9e69-492e-b123-53fff21ab0ac",
   "metadata": {},
   "outputs": [
    {
     "name": "stdout",
     "output_type": "stream",
     "text": [
      "[[5.]\n",
      " [1.]]\n",
      "[[39.4  8.1]\n",
      " [ 8.1  2.3]]\n"
     ]
    }
   ],
   "source": [
    "# Information matrix and vector initialization\n",
    "IP = inv(P)\n",
    "y = IP@x\n",
    "\n",
    "# Time update (predicion)\n",
    "M = inv(phi.T)@IP@inv(phi)\n",
    "yp = (eye(2) - M@inv(inv(Q) + M))@inv(phi.T)@y\n",
    "IPp = M - M@inv(inv(Q) + M)@M\n",
    "\n",
    "# Compute predicted state vector and covariance\n",
    "xp = inv(IPp)@yp\n",
    "Pp = inv(IPp)\n",
    "\n",
    "print(xp)\n",
    "print(Pp)"
   ]
  },
  {
   "cell_type": "code",
   "execution_count": 3,
   "id": "b324ae02-7171-469d-adfa-6b134c3c010a",
   "metadata": {},
   "outputs": [
    {
     "name": "stdout",
     "output_type": "stream",
     "text": [
      "[[6.8]\n",
      " [1.4]]\n",
      "[[3.6 0.7]\n",
      " [0.7 0.7]]\n"
     ]
    }
   ],
   "source": [
    "# Position measurement [meter]\n",
    "z = array([[7]])\n",
    "\n",
    "# Position measurement variance [meter^2]\n",
    "R = array([[2**2]])\n",
    "\n",
    "# Design matrix\n",
    "H = array([[1, 0]])\n",
    "\n",
    "# Measurement update (correction)\n",
    "y = yp + H.T@inv(R)@z\n",
    "IP = IPp + H.T@inv(R)@H\n",
    "\n",
    "# Compute estimated state vector and covariance\n",
    "x = inv(IP)@y\n",
    "P = inv(IP)\n",
    "\n",
    "print(x)\n",
    "print(P)"
   ]
  }
 ],
 "metadata": {
  "kernelspec": {
   "display_name": "Python 3 (ipykernel)",
   "language": "python",
   "name": "python3"
  },
  "language_info": {
   "codemirror_mode": {
    "name": "ipython",
    "version": 3
   },
   "file_extension": ".py",
   "mimetype": "text/x-python",
   "name": "python",
   "nbconvert_exporter": "python",
   "pygments_lexer": "ipython3",
   "version": "3.12.2"
  }
 },
 "nbformat": 4,
 "nbformat_minor": 5
}
