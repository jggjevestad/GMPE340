{
 "cells": [
  {
   "cell_type": "markdown",
   "id": "d1d08685-482d-4bfe-ae3f-d42888b7df4c",
   "metadata": {},
   "source": [
    "# First order low pass filter {-}\n",
    "\n",
    "Example 3.2\n",
    "\n",
    "Stationary analysis (Steady State):\n",
    "\n",
    "\\begin{align*}\n",
    "  R_f(\\tau)=&\\sigma^2e^{-\\beta|\\tau|} \\rightarrow S_f(s)=\\frac{2\\sigma^2\\beta}{-s^2+\\beta^2} \\\\\n",
    "  G(s)=&\\frac{1}{1+Ts}\n",
    "\\end{align*}\n",
    "\n",
    "\\begin{align*}\n",
    "  S_x(s)=&G(s)G(-s) S_f(s)\\\\\n",
    "        =&\\frac{1}{(1+Ts)}\\frac{1}{(1+T(-s))} \\frac{2\\sigma^2\\beta}{(-s^2+\\beta^2)}\n",
    "\\end{align*}"
   ]
  },
  {
   "cell_type": "code",
   "execution_count": 1,
   "id": "9dc49aec-9567-4c91-af26-410578ede9e8",
   "metadata": {},
   "outputs": [
    {
     "data": {
      "text/latex": [
       "$\\displaystyle \\frac{2 \\beta \\sigma^{2}}{\\left(\\beta^{2} - s^{2}\\right) \\left(- T s + 1\\right) \\left(T s + 1\\right)}$"
      ],
      "text/plain": [
       "2*beta*sigma**2/((beta**2 - s**2)*(-T*s + 1)*(T*s + 1))"
      ]
     },
     "metadata": {},
     "output_type": "display_data"
    }
   ],
   "source": [
    "from sympy import symbols, expand, simplify, integrate, pi, oo\n",
    "\n",
    "s, t, T, sigma, beta = symbols('s t T sigma beta', positive=True)\n",
    "w = symbols('omega')\n",
    "\n",
    "Sf = 2*sigma**2*beta/(-s**2+beta**2)\n",
    "G = lambda s: 1/(1 + T*s)\n",
    "\n",
    "Sx = G(s)*G(-s)*Sf\n",
    "display(Sx)"
   ]
  },
  {
   "cell_type": "markdown",
   "id": "9d0057e3-fa6a-4642-942e-72387ade5fef",
   "metadata": {},
   "source": [
    "Rephrase Sx as a function of $\\omega$, i.e. $s^2=-\\omega^2$:"
   ]
  },
  {
   "cell_type": "code",
   "execution_count": 2,
   "id": "2117e9ba-dca2-4ebf-9b81-fde396da9cae",
   "metadata": {},
   "outputs": [
    {
     "data": {
      "text/latex": [
       "$\\displaystyle \\frac{2 \\beta \\sigma^{2}}{T^{2} \\beta^{2} \\omega^{2} + T^{2} \\omega^{4} + \\beta^{2} + \\omega^{2}}$"
      ],
      "text/plain": [
       "2*beta*sigma**2/(T**2*beta**2*omega**2 + T**2*omega**4 + beta**2 + omega**2)"
      ]
     },
     "metadata": {},
     "output_type": "display_data"
    }
   ],
   "source": [
    "Sx = 2*beta*sigma**2/((beta**2 + w**2)*(T**2*w**2 + 1))\n",
    "display(expand(Sx))"
   ]
  },
  {
   "cell_type": "code",
   "execution_count": 3,
   "id": "3cbd2ac1-66ef-4aaa-a3a0-7a64af5c3fb6",
   "metadata": {},
   "outputs": [
    {
     "data": {
      "text/latex": [
       "$\\displaystyle \\frac{\\sigma^{2}}{T \\beta + 1}$"
      ],
      "text/plain": [
       "sigma**2/(T*beta + 1)"
      ]
     },
     "metadata": {},
     "output_type": "display_data"
    }
   ],
   "source": [
    "EX2 = 1/(2*pi)*integrate(Sx, [w, -oo, oo])\n",
    "display(simplify(EX2))"
   ]
  },
  {
   "cell_type": "markdown",
   "id": "81960f84-5f91-48cd-8368-91e596489825",
   "metadata": {},
   "source": [
    "From integration table 3.1, we can write:\n",
    "\n",
    "\\begin{align*}\n",
    "  E(x^2)=&\\frac{1}{2\\pi j}\\int_{-j\\infty}^{j\\infty} \\frac{c(s)}{d(s)} \\frac{c(-s)}{d(-s)} ds \\\\\n",
    "        =&\\frac{1}{2\\pi j}\\int_{-j\\infty}^{j\\infty} \\frac{\\sqrt{2\\sigma^2\\beta} \\cdot 1/T}{(s+\\beta)(s+1/T)} \\frac{\\sqrt{2\\sigma^2\\beta} \\cdot 1/T}{(-s+\\beta)(-s+1/T)} ds\n",
    "\\end{align*}\n",
    "\n",
    "\\begin{align*}\n",
    "  n=&2: \\\\\n",
    "  c(s)=&\\frac{\\sqrt{2\\sigma^2\\beta}}{T} \\rightarrow c_1=0, c_0=\\frac{\\sqrt{2\\sigma^2\\beta}}{T} \\\\\n",
    "  d(s)=&s^2+(\\beta+1/T)s+\\beta/T \\rightarrow d_2=1, d_1=(\\beta+1/T), d_0=\\beta/T \\\\\n",
    "  I_2=&\\frac{c_1^2d_0+c_0^2d_2}{2d_0d_1d_2} \\rightarrow E(x^2)=\\frac{2\\sigma^2\\beta/T^2}{2(\\beta/T)(\\beta+1/T)}=\\frac{\\sigma^2}{1+\\beta T}\n",
    "\\end{align*}"
   ]
  }
 ],
 "metadata": {
  "kernelspec": {
   "display_name": "Python 3 (ipykernel)",
   "language": "python",
   "name": "python3"
  },
  "language_info": {
   "codemirror_mode": {
    "name": "ipython",
    "version": 3
   },
   "file_extension": ".py",
   "mimetype": "text/x-python",
   "name": "python",
   "nbconvert_exporter": "python",
   "pygments_lexer": "ipython3",
   "version": "3.12.2"
  }
 },
 "nbformat": 4,
 "nbformat_minor": 5
}
