{
 "cells": [
  {
   "cell_type": "markdown",
   "metadata": {},
   "source": [
    "# Solution {-}\n",
    "\n",
    "PVA model"
   ]
  },
  {
   "cell_type": "code",
   "execution_count": 1,
   "metadata": {},
   "outputs": [
    {
     "data": {
      "text/latex": [
       "$\\displaystyle \\left[\\begin{matrix}1 & \\Delta{t} & \\frac{\\Delta{t}^{2}}{2}\\\\0 & 1 & \\Delta{t}\\\\0 & 0 & 1\\end{matrix}\\right]$"
      ],
      "text/plain": [
       "Matrix([\n",
       "[1, \\Delta{t}, \\Delta{t}**2/2],\n",
       "[0,         1,      \\Delta{t}],\n",
       "[0,         0,              1]])"
      ]
     },
     "execution_count": 1,
     "metadata": {},
     "output_type": "execute_result"
    }
   ],
   "source": [
    "from sympy import Matrix, symbols, sqrt, eye, integrate\n",
    "\n",
    "q, dt = symbols('q \\Delta{t}')\n",
    "\n",
    "F = Matrix([[0, 1, 0],\n",
    "            [0, 0, 1],\n",
    "            [0, 0, 0]])\n",
    "\n",
    "G = Matrix([[0],\n",
    "            [0],\n",
    "            [sqrt(q)]])\n",
    "\n",
    "phi = eye(3) + F*dt + (F*dt)**2/2\n",
    "phi"
   ]
  },
  {
   "cell_type": "code",
   "execution_count": 2,
   "metadata": {},
   "outputs": [
    {
     "data": {
      "text/latex": [
       "$\\displaystyle \\left[\\begin{matrix}\\frac{\\Delta{t}^{5} q}{20} & \\frac{\\Delta{t}^{4} q}{8} & \\frac{\\Delta{t}^{3} q}{6}\\\\\\frac{\\Delta{t}^{4} q}{8} & \\frac{\\Delta{t}^{3} q}{3} & \\frac{\\Delta{t}^{2} q}{2}\\\\\\frac{\\Delta{t}^{3} q}{6} & \\frac{\\Delta{t}^{2} q}{2} & \\Delta{t} q\\end{matrix}\\right]$"
      ],
      "text/plain": [
       "Matrix([\n",
       "[\\Delta{t}**5*q/20, \\Delta{t}**4*q/8, \\Delta{t}**3*q/6],\n",
       "[ \\Delta{t}**4*q/8, \\Delta{t}**3*q/3, \\Delta{t}**2*q/2],\n",
       "[ \\Delta{t}**3*q/6, \\Delta{t}**2*q/2,      \\Delta{t}*q]])"
      ]
     },
     "execution_count": 2,
     "metadata": {},
     "output_type": "execute_result"
    }
   ],
   "source": [
    "# Process noise\n",
    "Q = integrate(phi@G@G.T@phi.T, dt)\n",
    "Q"
   ]
  },
  {
   "cell_type": "markdown",
   "metadata": {},
   "source": [
    "Numerical example"
   ]
  },
  {
   "cell_type": "code",
   "execution_count": 3,
   "metadata": {},
   "outputs": [
    {
     "name": "stdout",
     "output_type": "stream",
     "text": [
      "[[1.600 0.200 0.013]\n",
      " [0.200 0.027 0.002]\n",
      " [0.013 0.002 0.000]]\n",
      "[[1.580 0.198 0.013]\n",
      " [0.198 0.026 0.002]\n",
      " [0.013 0.002 0.000]]\n"
     ]
    }
   ],
   "source": [
    "from numpy import array, zeros, arange, set_printoptions\n",
    "from lib.vanloan import numeval\n",
    "import matplotlib.pyplot as plt\n",
    "\n",
    "set_printoptions(formatter={'float': lambda x: \"{0:0.3f}\".format(x)})\n",
    "\n",
    "\n",
    "# System parameters\n",
    "dt = 0.1\n",
    "q = 1e-5\n",
    "\n",
    "F = array([[0, 1, 0],\n",
    "           [0, 0, 1],\n",
    "           [0, 0, 0]])\n",
    "\n",
    "G = array([[0],\n",
    "           [0],\n",
    "           [sqrt(q)]])\n",
    "\n",
    "# Numerical evaluation\n",
    "[phi, Q_true] = numeval(F, G, dt)\n",
    "\n",
    "# Process noise approximation\n",
    "Q_approx = array([[0, 0, 0],\n",
    "                  [0, 0, 0],\n",
    "                  [0, 0, q*dt]])\n",
    "\n",
    "var_true = []\n",
    "var_approx = []\n",
    "\n",
    "# Initial covariance\n",
    "P = zeros([3, 3])\n",
    "for i in range(0, 200):\n",
    "    P = phi@P@phi.T + Q_true\n",
    "    var_true.append(P)\n",
    "\n",
    "# Initial covariance\n",
    "P = zeros([3, 3])\n",
    "for i in range(0, 200):\n",
    "    P = phi@P@phi.T + Q_approx\n",
    "    var_approx.append(P)\n",
    "\n",
    "# Difference at step 200\n",
    "print(var_true[199])\n",
    "print(var_approx[199])"
   ]
  }
 ],
 "metadata": {
  "kernelspec": {
   "display_name": "Python 3 (ipykernel)",
   "language": "python",
   "name": "python3"
  },
  "language_info": {
   "codemirror_mode": {
    "name": "ipython",
    "version": 3
   },
   "file_extension": ".py",
   "mimetype": "text/x-python",
   "name": "python",
   "nbconvert_exporter": "python",
   "pygments_lexer": "ipython3",
   "version": "3.12.2"
  }
 },
 "nbformat": 4,
 "nbformat_minor": 4
}
