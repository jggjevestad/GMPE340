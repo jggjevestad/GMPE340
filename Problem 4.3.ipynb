{
 "cells": [
  {
   "cell_type": "markdown",
   "metadata": {},
   "source": [
    "# Solution {-}\n",
    "\n",
    "PVA Markov model"
   ]
  },
  {
   "cell_type": "code",
   "execution_count": 1,
   "metadata": {},
   "outputs": [
    {
     "data": {
      "text/latex": [
       "$\\displaystyle \\left[\\begin{matrix}1 & \\Delta{t} & \\frac{\\Delta{t}}{\\beta} - \\frac{1}{\\beta^{2}} + \\frac{e^{- \\Delta{t} \\beta}}{\\beta^{2}}\\\\0 & 1 & \\frac{1}{\\beta} - \\frac{e^{- \\Delta{t} \\beta}}{\\beta}\\\\0 & 0 & e^{- \\Delta{t} \\beta}\\end{matrix}\\right]$"
      ],
      "text/plain": [
       "Matrix([\n",
       "[1, \\Delta{t}, \\Delta{t}/beta - 1/beta**2 + exp(-\\Delta{t}*beta)/beta**2],\n",
       "[0,         1,                        1/beta - exp(-\\Delta{t}*beta)/beta],\n",
       "[0,         0,                                      exp(-\\Delta{t}*beta)]])"
      ]
     },
     "execution_count": 1,
     "metadata": {},
     "output_type": "execute_result"
    }
   ],
   "source": [
    "from sympy import Matrix, symbols, sqrt, eye, integrate, inverse_laplace_transform\n",
    "\n",
    "s, dt, beta, q = symbols('s \\Delta{t} beta q', positive=True)\n",
    "\n",
    "F = Matrix([[0, 1, 0],\n",
    "            [0, 0, 1],\n",
    "            [0, 0, -beta]])\n",
    "\n",
    "G = Matrix([[0],\n",
    "            [0],\n",
    "            [sqrt(q)]])\n",
    "\n",
    "phi = inverse_laplace_transform((s*eye(3) - F).inv(), s, dt)\n",
    "phi"
   ]
  },
  {
   "cell_type": "code",
   "execution_count": 2,
   "metadata": {},
   "outputs": [
    {
     "data": {
      "text/latex": [
       "$\\displaystyle \\left[\\begin{matrix}\\frac{\\Delta{t}^{3} q}{3 \\beta^{2}} - \\frac{\\Delta{t}^{2} q}{\\beta^{3}} + \\frac{\\Delta{t} q}{\\beta^{4}} + \\frac{- 4 \\Delta{t} \\beta^{5} q e^{- \\Delta{t} \\beta} - \\beta^{4} q e^{- 2 \\Delta{t} \\beta}}{2 \\beta^{9}} & \\frac{\\Delta{t}^{2} q}{2 \\beta^{2}} - \\frac{\\Delta{t} q}{\\beta^{3}} + \\frac{\\beta^{4} q e^{- 2 \\Delta{t} \\beta} + \\left(2 \\Delta{t} \\beta^{5} q - 2 \\beta^{4} q\\right) e^{- \\Delta{t} \\beta}}{2 \\beta^{8}} & \\frac{- 2 \\Delta{t} \\beta^{3} q e^{- \\Delta{t} \\beta} - \\beta^{2} q e^{- 2 \\Delta{t} \\beta}}{2 \\beta^{5}}\\\\\\frac{\\Delta{t}^{2} q}{2 \\beta^{2}} - \\frac{\\Delta{t} q}{\\beta^{3}} + \\frac{\\beta^{4} q e^{- 2 \\Delta{t} \\beta} + \\left(2 \\Delta{t} \\beta^{5} q - 2 \\beta^{4} q\\right) e^{- \\Delta{t} \\beta}}{2 \\beta^{8}} & \\frac{\\Delta{t} q}{\\beta^{2}} + \\frac{4 \\beta^{3} q e^{- \\Delta{t} \\beta} - \\beta^{3} q e^{- 2 \\Delta{t} \\beta}}{2 \\beta^{6}} & \\frac{- 2 \\beta^{2} q e^{- \\Delta{t} \\beta} + \\beta^{2} q e^{- 2 \\Delta{t} \\beta}}{2 \\beta^{4}}\\\\\\frac{- 2 \\Delta{t} \\beta^{3} q e^{- \\Delta{t} \\beta} - \\beta^{2} q e^{- 2 \\Delta{t} \\beta}}{2 \\beta^{5}} & \\frac{- 2 \\beta^{2} q e^{- \\Delta{t} \\beta} + \\beta^{2} q e^{- 2 \\Delta{t} \\beta}}{2 \\beta^{4}} & - \\frac{q e^{- 2 \\Delta{t} \\beta}}{2 \\beta}\\end{matrix}\\right]$"
      ],
      "text/plain": [
       "Matrix([\n",
       "[\\Delta{t}**3*q/(3*beta**2) - \\Delta{t}**2*q/beta**3 + \\Delta{t}*q/beta**4 + (-4*\\Delta{t}*beta**5*q*exp(-\\Delta{t}*beta) - beta**4*q*exp(-2*\\Delta{t}*beta))/(2*beta**9), \\Delta{t}**2*q/(2*beta**2) - \\Delta{t}*q/beta**3 + (beta**4*q*exp(-2*\\Delta{t}*beta) + (2*\\Delta{t}*beta**5*q - 2*beta**4*q)*exp(-\\Delta{t}*beta))/(2*beta**8), (-2*\\Delta{t}*beta**3*q*exp(-\\Delta{t}*beta) - beta**2*q*exp(-2*\\Delta{t}*beta))/(2*beta**5)],\n",
       "[          \\Delta{t}**2*q/(2*beta**2) - \\Delta{t}*q/beta**3 + (beta**4*q*exp(-2*\\Delta{t}*beta) + (2*\\Delta{t}*beta**5*q - 2*beta**4*q)*exp(-\\Delta{t}*beta))/(2*beta**8),                                                        \\Delta{t}*q/beta**2 + (4*beta**3*q*exp(-\\Delta{t}*beta) - beta**3*q*exp(-2*\\Delta{t}*beta))/(2*beta**6),           (-2*beta**2*q*exp(-\\Delta{t}*beta) + beta**2*q*exp(-2*\\Delta{t}*beta))/(2*beta**4)],\n",
       "[                                                                            (-2*\\Delta{t}*beta**3*q*exp(-\\Delta{t}*beta) - beta**2*q*exp(-2*\\Delta{t}*beta))/(2*beta**5),                                                                             (-2*beta**2*q*exp(-\\Delta{t}*beta) + beta**2*q*exp(-2*\\Delta{t}*beta))/(2*beta**4),                                                           -q*exp(-2*\\Delta{t}*beta)/(2*beta)]])"
      ]
     },
     "execution_count": 2,
     "metadata": {},
     "output_type": "execute_result"
    }
   ],
   "source": [
    "# Process noise\n",
    "Q = integrate(phi@G@G.T@phi.T, dt)\n",
    "Q"
   ]
  },
  {
   "cell_type": "code",
   "execution_count": 3,
   "metadata": {},
   "outputs": [
    {
     "name": "stdout",
     "output_type": "stream",
     "text": [
      "[[1.000 0.100 0.005]\n",
      " [0.000 1.000 0.099]\n",
      " [0.000 0.000 0.980]]\n",
      "[[0.000 0.000 0.002]\n",
      " [0.000 0.003 0.049]\n",
      " [0.002 0.049 0.980]]\n"
     ]
    }
   ],
   "source": [
    "from numpy import array, sqrt, set_printoptions\n",
    "from lib.vanloan import numeval\n",
    "\n",
    "set_printoptions(formatter={'float': lambda x: \"{0:0.3f}\".format(x)})\n",
    "\n",
    "# System conditions\n",
    "dt = 0.1\n",
    "beta = 0.2\n",
    "q = 10\n",
    "\n",
    "F = array([[0, 1, 0],\n",
    "           [0, 0, 1],\n",
    "           [0, 0, -beta]])\n",
    "\n",
    "G = array([[0],\n",
    "           [0],\n",
    "           [sqrt(q)]])\n",
    "\n",
    "# Numerical evaulation\n",
    "[phi, Q] = numeval(F, G, dt)\n",
    "\n",
    "# Transition matrix\n",
    "print(phi)\n",
    "\n",
    "# Process noise covariance matrix\n",
    "print(Q)"
   ]
  }
 ],
 "metadata": {
  "kernelspec": {
   "display_name": "Python 3 (ipykernel)",
   "language": "python",
   "name": "python3"
  },
  "language_info": {
   "codemirror_mode": {
    "name": "ipython",
    "version": 3
   },
   "file_extension": ".py",
   "mimetype": "text/x-python",
   "name": "python",
   "nbconvert_exporter": "python",
   "pygments_lexer": "ipython3",
   "version": "3.10.8"
  }
 },
 "nbformat": 4,
 "nbformat_minor": 4
}
