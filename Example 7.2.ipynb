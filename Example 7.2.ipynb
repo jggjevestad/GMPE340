{
 "cells": [
  {
   "cell_type": "code",
   "execution_count": 1,
   "id": "38ee43d6-12de-4ccb-b2c9-9ce5a7e11af0",
   "metadata": {},
   "outputs": [
    {
     "data": {
      "text/latex": [
       "$\\displaystyle \\left[\\begin{matrix}x_{2}\\\\- \\frac{K}{x_{1}^{2}} + x_{1} x_{4}^{2}\\\\x_{4}\\\\- \\frac{2 x_{2} x_{4}}{x_{1}} + \\frac{1}{x_{1}}\\end{matrix}\\right]$"
      ],
      "text/plain": [
       "Matrix([\n",
       "[                 x2],\n",
       "[-K/x1**2 + x1*x4**2],\n",
       "[                 x4],\n",
       "[ -2*x2*x4/x1 + 1/x1]])"
      ]
     },
     "execution_count": 1,
     "metadata": {},
     "output_type": "execute_result"
    }
   ],
   "source": [
    "from sympy import Matrix, symbols, sqrt, asin\n",
    "\n",
    "# Variables\n",
    "alpha0, K, Re = symbols('alpha_0 K R_e')\n",
    "\n",
    "# State vector\n",
    "x1, x2, x3, x4 = symbols('x1 x2 x3 x4')\n",
    "\n",
    "x = Matrix([[x1],\n",
    "            [x2],\n",
    "            [x3],\n",
    "            [x4]])\n",
    "\n",
    "# Dynamic equations\n",
    "f = Matrix([[x2],\n",
    "            [x1*x4**2 - K/x1**2],\n",
    "            [x4],\n",
    "            [-2*x2*x4/x1 + 1/x1]])\n",
    "f"
   ]
  },
  {
   "cell_type": "code",
   "execution_count": 2,
   "id": "216c51b7-b6e2-4557-b234-f1c1bd66d201",
   "metadata": {},
   "outputs": [
    {
     "data": {
      "text/latex": [
       "$\\displaystyle \\left[\\begin{matrix}0 & 1 & 0 & 0\\\\\\frac{2 K}{x_{1}^{3}} + x_{4}^{2} & 0 & 0 & 2 x_{1} x_{4}\\\\0 & 0 & 0 & 1\\\\\\frac{2 x_{2} x_{4}}{x_{1}^{2}} - \\frac{1}{x_{1}^{2}} & - \\frac{2 x_{4}}{x_{1}} & 0 & - \\frac{2 x_{2}}{x_{1}}\\end{matrix}\\right]$"
      ],
      "text/plain": [
       "Matrix([\n",
       "[                      0,        1, 0,        0],\n",
       "[      2*K/x1**3 + x4**2,        0, 0,  2*x1*x4],\n",
       "[                      0,        0, 0,        1],\n",
       "[2*x2*x4/x1**2 - 1/x1**2, -2*x4/x1, 0, -2*x2/x1]])"
      ]
     },
     "execution_count": 2,
     "metadata": {},
     "output_type": "execute_result"
    }
   ],
   "source": [
    "# Dynamic matrix (linearized)\n",
    "df = f.jacobian(x)\n",
    "df"
   ]
  },
  {
   "cell_type": "code",
   "execution_count": 3,
   "id": "e192da12-18b4-436f-b3e3-f34b79b5ef51",
   "metadata": {},
   "outputs": [
    {
     "data": {
      "text/latex": [
       "$\\displaystyle \\left[\\begin{matrix}- \\frac{R_{e}}{x_{1}^{2} \\sqrt{- \\frac{R_{e}^{2}}{x_{1}^{2}} + 1}} & 0 & 0 & 0\\\\0 & 0 & -1 & 0\\end{matrix}\\right]$"
      ],
      "text/plain": [
       "Matrix([\n",
       "[-R_e/(x1**2*sqrt(-R_e**2/x1**2 + 1)), 0,  0, 0],\n",
       "[                                   0, 0, -1, 0]])"
      ]
     },
     "execution_count": 3,
     "metadata": {},
     "output_type": "execute_result"
    }
   ],
   "source": [
    "# Measurement equations\n",
    "h = Matrix([[asin(Re/x1)],\n",
    "            [alpha0 - x3]])\n",
    "\n",
    "# Design matrix (linearized)\n",
    "dh = h.jacobian(x)\n",
    "dh"
   ]
  }
 ],
 "metadata": {
  "kernelspec": {
   "display_name": "Python 3 (ipykernel)",
   "language": "python",
   "name": "python3"
  },
  "language_info": {
   "codemirror_mode": {
    "name": "ipython",
    "version": 3
   },
   "file_extension": ".py",
   "mimetype": "text/x-python",
   "name": "python",
   "nbconvert_exporter": "python",
   "pygments_lexer": "ipython3",
   "version": "3.12.2"
  }
 },
 "nbformat": 4,
 "nbformat_minor": 5
}
