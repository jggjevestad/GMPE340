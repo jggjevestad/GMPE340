{
 "cells": [
  {
   "cell_type": "markdown",
   "metadata": {},
   "source": [
    "# Shaping Filter {-}\n",
    "\n",
    "Example 3.5"
   ]
  },
  {
   "cell_type": "code",
   "execution_count": 1,
   "metadata": {},
   "outputs": [
    {
     "data": {
      "text/latex": [
       "$\\displaystyle \\frac{16}{s^{4} + 64}$"
      ],
      "text/plain": [
       "16/(s**4 + 64)"
      ]
     },
     "metadata": {},
     "output_type": "display_data"
    }
   ],
   "source": [
    "from sympy import symbols, solveset, factor\n",
    "\n",
    "s = symbols('s')\n",
    "\n",
    "# Power spectral density\n",
    "Sx = 16/(s**4 + 64)\n",
    "display(Sx)"
   ]
  },
  {
   "cell_type": "code",
   "execution_count": 2,
   "metadata": {},
   "outputs": [
    {
     "data": {
      "text/latex": [
       "$\\displaystyle \\left\\{-2 - 2 i, -2 + 2 i, 2 - 2 i, 2 + 2 i\\right\\}$"
      ],
      "text/plain": [
       "{-2 - 2*I, -2 + 2*I, 2 - 2*I, 2 + 2*I}"
      ]
     },
     "execution_count": 2,
     "metadata": {},
     "output_type": "execute_result"
    }
   ],
   "source": [
    "# Solve for poles\n",
    "solveset(s**4 + 64)"
   ]
  },
  {
   "cell_type": "code",
   "execution_count": 3,
   "metadata": {},
   "outputs": [
    {
     "data": {
      "text/latex": [
       "$\\displaystyle \\frac{16}{\\left(s^{2} - 4 s + 8\\right) \\left(s^{2} + 4 s + 8\\right)}$"
      ],
      "text/plain": [
       "16/((s**2 - 4*s + 8)*(s**2 + 4*s + 8))"
      ]
     },
     "metadata": {},
     "output_type": "display_data"
    }
   ],
   "source": [
    "# Factorize spectrum\n",
    "display(factor(Sx))"
   ]
  }
 ],
 "metadata": {
  "kernelspec": {
   "display_name": "Python 3 (ipykernel)",
   "language": "python",
   "name": "python3"
  },
  "language_info": {
   "codemirror_mode": {
    "name": "ipython",
    "version": 3
   },
   "file_extension": ".py",
   "mimetype": "text/x-python",
   "name": "python",
   "nbconvert_exporter": "python",
   "pygments_lexer": "ipython3",
   "version": "3.12.2"
  }
 },
 "nbformat": 4,
 "nbformat_minor": 4
}
