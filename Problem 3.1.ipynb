{
 "cells": [
  {
   "cell_type": "markdown",
   "id": "28020fe4-a102-4e88-9f72-c59d6dca4366",
   "metadata": {},
   "source": [
    "# Solution {-}\n",
    "\n",
    "Find the steady-state mean square value of the output for the following filters. The input is white noise with a spectral density amplitude of A."
   ]
  },
  {
   "cell_type": "code",
   "execution_count": 1,
   "id": "03777902-ae6c-4f0e-922f-e89942cd5aac",
   "metadata": {},
   "outputs": [],
   "source": [
    "from sympy import symbols, Lambda, expand, integrate, pi, oo\n",
    "\n",
    "s, t = symbols('s t', positive=True)\n",
    "T, A, zeta, w0 = symbols('T A zeta omega_0', positive=True)\n",
    "w = symbols('omega')"
   ]
  },
  {
   "cell_type": "code",
   "execution_count": 2,
   "id": "e05a9beb-98f6-405b-b15c-aa49f62e8e42",
   "metadata": {},
   "outputs": [
    {
     "data": {
      "text/latex": [
       "$\\displaystyle \\frac{T s}{\\left(T s + 1\\right)^{2}}$"
      ],
      "text/plain": [
       "T*s/(T*s + 1)**2"
      ]
     },
     "metadata": {},
     "output_type": "display_data"
    },
    {
     "data": {
      "text/latex": [
       "$\\displaystyle - \\frac{A T^{2} s^{2}}{T^{4} s^{4} - 2 T^{2} s^{2} + 1}$"
      ],
      "text/plain": [
       "-A*T**2*s**2/(T**4*s**4 - 2*T**2*s**2 + 1)"
      ]
     },
     "metadata": {},
     "output_type": "display_data"
    }
   ],
   "source": [
    "# a)\n",
    "Sf = A\n",
    "G = Lambda(s, T*s/(1 + T*s)**2)\n",
    "display(G(s))\n",
    "\n",
    "Sx = G(s)*G(-s)*Sf\n",
    "display(expand(Sx))"
   ]
  },
  {
   "cell_type": "code",
   "execution_count": 3,
   "id": "b6349e31-284e-4d43-a225-ca5c3a9c1da1",
   "metadata": {},
   "outputs": [
    {
     "data": {
      "text/latex": [
       "$\\displaystyle \\frac{A T^{2} \\omega^{2}}{T^{4} \\omega^{4} + 2 T^{2} \\omega^{2} + 1}$"
      ],
      "text/plain": [
       "A*T**2*omega**2/(T**4*omega**4 + 2*T**2*omega**2 + 1)"
      ]
     },
     "metadata": {},
     "output_type": "display_data"
    }
   ],
   "source": [
    "Sx = -(A*T**2*-w**2)/(T**4*w**4 - 2*T**2*-w**2 + 1)\n",
    "display(Sx)"
   ]
  },
  {
   "cell_type": "code",
   "execution_count": 4,
   "id": "8583502f-67f8-46cb-9047-6d75fbc0fb34",
   "metadata": {},
   "outputs": [
    {
     "data": {
      "text/latex": [
       "$\\displaystyle \\frac{A}{4 T}$"
      ],
      "text/plain": [
       "A/(4*T)"
      ]
     },
     "metadata": {},
     "output_type": "display_data"
    }
   ],
   "source": [
    "EX2 = 1/(2*pi)*integrate(Sx, [w, -oo, oo])\n",
    "display(EX2)"
   ]
  },
  {
   "cell_type": "markdown",
   "id": "f420e677-f66c-492e-b1fc-1b7534a69bec",
   "metadata": {},
   "source": [
    "Integration tables:\n",
    "\\begin{align*}\n",
    "  n =& 2 \\\\\n",
    "  c_1 =& \\sqrt{A}T, \\: c_0 = 0 \\\\\n",
    "  d_2 =& T^2, \\: d_1 = 2T, \\: d_0 = 1 \\\\\n",
    "\\end{align*}\n",
    "\n",
    "Mean square value:\n",
    "\\begin{equation*}\n",
    "  E[x^2] = \\frac{c_1^2 d_0 + c_0^2 d_2}{2 d_0 d_1 d_2} = \\frac{AT^2}{2 \\cdot 2T \\cdot T^2} = \\frac{A}{4T}\n",
    "\\end{equation*}"
   ]
  },
  {
   "cell_type": "code",
   "execution_count": 5,
   "id": "a92e0cc6-4f6a-4c69-ad80-f6bc02e02a9d",
   "metadata": {},
   "outputs": [
    {
     "data": {
      "text/latex": [
       "$\\displaystyle \\frac{\\omega_{0}^{2}}{\\omega_{0}^{2} + 2 \\omega_{0} s \\zeta + s^{2}}$"
      ],
      "text/plain": [
       "omega_0**2/(omega_0**2 + 2*omega_0*s*zeta + s**2)"
      ]
     },
     "metadata": {},
     "output_type": "display_data"
    },
    {
     "data": {
      "text/latex": [
       "$\\displaystyle \\frac{A \\omega_{0}^{4}}{\\omega_{0}^{4} - 4 \\omega_{0}^{2} s^{2} \\zeta^{2} + 2 \\omega_{0}^{2} s^{2} + s^{4}}$"
      ],
      "text/plain": [
       "A*omega_0**4/(omega_0**4 - 4*omega_0**2*s**2*zeta**2 + 2*omega_0**2*s**2 + s**4)"
      ]
     },
     "metadata": {},
     "output_type": "display_data"
    }
   ],
   "source": [
    "# b)\n",
    "Sf = A\n",
    "G = Lambda(s, w0**2/(s**2 + 2*zeta*w0*s + w0**2))\n",
    "display(G(s))\n",
    "\n",
    "Sx = G(s)*G(-s)*Sf\n",
    "display(expand(Sx))"
   ]
  },
  {
   "cell_type": "code",
   "execution_count": 6,
   "id": "36f1acb3-f7e3-4337-9d35-10f9db164913",
   "metadata": {},
   "outputs": [
    {
     "data": {
      "text/latex": [
       "$\\displaystyle \\frac{A \\omega_{0}^{4}}{\\omega^{4} + 4 \\omega^{2} \\omega_{0}^{2} \\zeta^{2} - 2 \\omega^{2} \\omega_{0}^{2} + \\omega_{0}^{4}}$"
      ],
      "text/plain": [
       "A*omega_0**4/(omega**4 + 4*omega**2*omega_0**2*zeta**2 - 2*omega**2*omega_0**2 + omega_0**4)"
      ]
     },
     "metadata": {},
     "output_type": "display_data"
    }
   ],
   "source": [
    "Sx = (A*w0**4)/(w0**4 - 4*w0**2*-w**2*zeta**2 + 2*w0**2*-w**2 + w**4)\n",
    "display(Sx)"
   ]
  },
  {
   "cell_type": "code",
   "execution_count": 7,
   "id": "11ad28ee-cd8b-4299-882b-2015f9437bae",
   "metadata": {},
   "outputs": [
    {
     "data": {
      "text/latex": [
       "$\\displaystyle \\frac{A \\omega_{0}^{4} \\int\\limits_{-\\infty}^{\\infty} \\frac{1}{\\omega^{4} + 4 \\omega^{2} \\omega_{0}^{2} \\zeta^{2} - 2 \\omega^{2} \\omega_{0}^{2} + \\omega_{0}^{4}}\\, d\\omega}{2 \\pi}$"
      ],
      "text/plain": [
       "A*omega_0**4*Integral(1/(omega**4 + 4*omega**2*omega_0**2*zeta**2 - 2*omega**2*omega_0**2 + omega_0**4), (omega, -oo, oo))/(2*pi)"
      ]
     },
     "metadata": {},
     "output_type": "display_data"
    }
   ],
   "source": [
    "EX2 = 1/(2*pi)*integrate(Sx, [w, -oo, oo])\n",
    "display(EX2)"
   ]
  },
  {
   "cell_type": "markdown",
   "id": "6b47a86c-a5c1-44c5-99d2-807f7736a035",
   "metadata": {},
   "source": [
    "Integration tables:\n",
    "\\begin{align*}\n",
    "  n =& 2 \\\\\n",
    "  c_1 =& 0, \\: c_0 = \\sqrt{A}\\omega_0^2 \\\\\n",
    "  d_2 =& 1, \\: d_1 = 2 \\zeta \\omega_0, \\: d_0 = \\omega_0^2 \\\\\n",
    "\\end{align*}\n",
    "\n",
    "Mean square value:\n",
    "\\begin{equation*}\n",
    "  E[x^2] = \\frac{c_1^2 d_0 + c_0^2 d_2}{2 d_0 d_1 d_2} = \\frac{A\\omega_0^4}{2 \\cdot \\omega_0^2 \\cdot 2\\zeta\\omega_0} = \\frac{A\\omega_0}{4\\zeta}\n",
    "\\end{equation*}"
   ]
  },
  {
   "cell_type": "code",
   "execution_count": 8,
   "id": "1776d09b-877a-4e5b-8b19-7a77278ed71b",
   "metadata": {},
   "outputs": [
    {
     "data": {
      "text/latex": [
       "$\\displaystyle \\frac{s + 1}{\\left(s + 2\\right)^{2}}$"
      ],
      "text/plain": [
       "(s + 1)/(s + 2)**2"
      ]
     },
     "metadata": {},
     "output_type": "display_data"
    },
    {
     "data": {
      "text/latex": [
       "$\\displaystyle - \\frac{A s^{2}}{s^{4} - 8 s^{2} + 16} + \\frac{A}{s^{4} - 8 s^{2} + 16}$"
      ],
      "text/plain": [
       "-A*s**2/(s**4 - 8*s**2 + 16) + A/(s**4 - 8*s**2 + 16)"
      ]
     },
     "metadata": {},
     "output_type": "display_data"
    }
   ],
   "source": [
    "# c)\n",
    "Sf = A\n",
    "G = Lambda(s, (s + 1)/(s + 2)**2)\n",
    "display(G(s))\n",
    "\n",
    "Sx = G(s)*G(-s)*Sf\n",
    "display(expand(Sx))"
   ]
  },
  {
   "cell_type": "code",
   "execution_count": 9,
   "id": "76a57cdc-cd07-4aa8-a272-9cc9a44fd227",
   "metadata": {},
   "outputs": [
    {
     "data": {
      "text/latex": [
       "$\\displaystyle \\frac{A \\omega^{2}}{\\omega^{4} + 8 \\omega^{2} + 16} + \\frac{A}{\\omega^{4} + 8 \\omega^{2} + 16}$"
      ],
      "text/plain": [
       "A*omega**2/(omega**4 + 8*omega**2 + 16) + A/(omega**4 + 8*omega**2 + 16)"
      ]
     },
     "metadata": {},
     "output_type": "display_data"
    }
   ],
   "source": [
    "Sx = A/(w**4 - 8*-w**2 + 16) - (A*-w**2)/(w**4 - 8*-w**2 + 16)\n",
    "display(Sx)"
   ]
  },
  {
   "cell_type": "code",
   "execution_count": 10,
   "id": "a8ff7b8b-feb1-432d-af01-0a13721f3d7c",
   "metadata": {},
   "outputs": [
    {
     "data": {
      "text/latex": [
       "$\\displaystyle \\frac{5 A}{32}$"
      ],
      "text/plain": [
       "5*A/32"
      ]
     },
     "metadata": {},
     "output_type": "display_data"
    }
   ],
   "source": [
    "EX2 = 1/(2*pi)*integrate(Sx, [w, -oo, oo])\n",
    "display(EX2)"
   ]
  },
  {
   "cell_type": "markdown",
   "id": "4e8301b0-af7a-4ad6-8dd3-923213805e2d",
   "metadata": {},
   "source": [
    "Integration tables:\n",
    "\\begin{align*}\n",
    "  n =& 2 \\\\\n",
    "  c_1 =& \\sqrt{A}, \\: c_0 = \\sqrt{A} \\\\\n",
    "  d_2 =& 1, \\: d_1 = 4, \\: d_0 = 4 \\\\\n",
    "\\end{align*}\n",
    "\n",
    "Mean square value:\n",
    "\\begin{equation*}\n",
    "  E[x^2] = \\frac{c_1^2 d_0 + c_0^2 d_2}{2 d_0 d_1 d_2} = \\frac{4A + A}{2 \\cdot 4 \\cdot 4 \\cdot 1} = \\frac{5A}{32}\n",
    "\\end{equation*}"
   ]
  }
 ],
 "metadata": {
  "kernelspec": {
   "display_name": "Python 3 (ipykernel)",
   "language": "python",
   "name": "python3"
  },
  "language_info": {
   "codemirror_mode": {
    "name": "ipython",
    "version": 3
   },
   "file_extension": ".py",
   "mimetype": "text/x-python",
   "name": "python",
   "nbconvert_exporter": "python",
   "pygments_lexer": "ipython3",
   "version": "3.12.2"
  }
 },
 "nbformat": 4,
 "nbformat_minor": 5
}
