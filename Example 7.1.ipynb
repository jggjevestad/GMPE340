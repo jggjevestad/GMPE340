{
 "cells": [
  {
   "cell_type": "code",
   "execution_count": 1,
   "id": "1acdc3b3-60e9-43f6-8dc6-875086ce40d6",
   "metadata": {},
   "outputs": [
    {
     "data": {
      "text/latex": [
       "$\\displaystyle \\left[\\begin{matrix}\\sqrt{\\left(- a_{1} + x_{1}\\right)^{2} + \\left(- b_{1} + x_{3}\\right)^{2}}\\\\\\sqrt{\\left(- a_{2} + x_{1}\\right)^{2} + \\left(- b_{2} + x_{3}\\right)^{2}}\\end{matrix}\\right]$"
      ],
      "text/plain": [
       "Matrix([\n",
       "[sqrt((-a1 + x1)**2 + (-b1 + x3)**2)],\n",
       "[sqrt((-a2 + x1)**2 + (-b2 + x3)**2)]])"
      ]
     },
     "execution_count": 1,
     "metadata": {},
     "output_type": "execute_result"
    }
   ],
   "source": [
    "from sympy import Matrix, sqrt, symbols\n",
    "\n",
    "# DME station coordinates\n",
    "a1, b1, a2, b2 = symbols('a1 b1 a2 b2')\n",
    "\n",
    "# State vector\n",
    "x1, x2, x3, x4 = symbols('x1 x2 x3 x4')\n",
    "\n",
    "x = Matrix([[x1],\n",
    "            [x2],\n",
    "            [x3],\n",
    "            [x4]])\n",
    "\n",
    "# Measurement equations\n",
    "h = Matrix([[sqrt((x1 - a1)**2 + (x3 - b1)**2)],\n",
    "            [sqrt((x1 - a2)**2 + (x3 - b2)**2)]])\n",
    "h"
   ]
  },
  {
   "cell_type": "code",
   "execution_count": 2,
   "id": "1c814a73-ac59-41f4-8957-6c3db9919be3",
   "metadata": {},
   "outputs": [
    {
     "data": {
      "text/latex": [
       "$\\displaystyle \\left[\\begin{matrix}\\frac{- a_{1} + x_{1}}{\\sqrt{\\left(- a_{1} + x_{1}\\right)^{2} + \\left(- b_{1} + x_{3}\\right)^{2}}} & 0 & \\frac{- b_{1} + x_{3}}{\\sqrt{\\left(- a_{1} + x_{1}\\right)^{2} + \\left(- b_{1} + x_{3}\\right)^{2}}} & 0\\\\\\frac{- a_{2} + x_{1}}{\\sqrt{\\left(- a_{2} + x_{1}\\right)^{2} + \\left(- b_{2} + x_{3}\\right)^{2}}} & 0 & \\frac{- b_{2} + x_{3}}{\\sqrt{\\left(- a_{2} + x_{1}\\right)^{2} + \\left(- b_{2} + x_{3}\\right)^{2}}} & 0\\end{matrix}\\right]$"
      ],
      "text/plain": [
       "Matrix([\n",
       "[(-a1 + x1)/sqrt((-a1 + x1)**2 + (-b1 + x3)**2), 0, (-b1 + x3)/sqrt((-a1 + x1)**2 + (-b1 + x3)**2), 0],\n",
       "[(-a2 + x1)/sqrt((-a2 + x1)**2 + (-b2 + x3)**2), 0, (-b2 + x3)/sqrt((-a2 + x1)**2 + (-b2 + x3)**2), 0]])"
      ]
     },
     "execution_count": 2,
     "metadata": {},
     "output_type": "execute_result"
    }
   ],
   "source": [
    "# Design matrix (linearized)\n",
    "dh = h.jacobian(x)\n",
    "dh"
   ]
  }
 ],
 "metadata": {
  "kernelspec": {
   "display_name": "Python 3 (ipykernel)",
   "language": "python",
   "name": "python3"
  },
  "language_info": {
   "codemirror_mode": {
    "name": "ipython",
    "version": 3
   },
   "file_extension": ".py",
   "mimetype": "text/x-python",
   "name": "python",
   "nbconvert_exporter": "python",
   "pygments_lexer": "ipython3",
   "version": "3.12.2"
  }
 },
 "nbformat": 4,
 "nbformat_minor": 5
}
