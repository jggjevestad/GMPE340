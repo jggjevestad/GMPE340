{
 "cells": [
  {
   "cell_type": "markdown",
   "metadata": {},
   "source": [
    "# Solution {-}\n",
    "\n",
    "In straight poker, five cards are dealt to each player from a deck of ordinary playing cards.\n",
    "\n",
    "1. What is the probability that the a player will be dealt a flush?"
   ]
  },
  {
   "cell_type": "code",
   "execution_count": 1,
   "metadata": {},
   "outputs": [
    {
     "name": "stdout",
     "output_type": "stream",
     "text": [
      "The probability of being dealt flush is: 0.001981 (0.2%)\n"
     ]
    }
   ],
   "source": [
    "from numpy import arange\n",
    "from itertools import combinations\n",
    "\n",
    "deck = arange(0, 52)\n",
    "suit = arange(0, 13)\n",
    "\n",
    "hands = len(list(combinations(deck, 5)))\n",
    "flush_hands = len(list(combinations(suit, 5)))\n",
    "\n",
    "prob = (4*flush_hands)/hands\n",
    "print(f\"The probability of being dealt flush is: {prob:.6f} ({prob*100:.1f}%)\")"
   ]
  }
 ],
 "metadata": {
  "kernelspec": {
   "display_name": "Python 3 (ipykernel)",
   "language": "python",
   "name": "python3"
  },
  "language_info": {
   "codemirror_mode": {
    "name": "ipython",
    "version": 3
   },
   "file_extension": ".py",
   "mimetype": "text/x-python",
   "name": "python",
   "nbconvert_exporter": "python",
   "pygments_lexer": "ipython3",
   "version": "3.10.8"
  }
 },
 "nbformat": 4,
 "nbformat_minor": 4
}
