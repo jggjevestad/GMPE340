{
 "cells": [
  {
   "cell_type": "markdown",
   "metadata": {},
   "source": [
    "# Intuitive notion of probability {-}"
   ]
  },
  {
   "cell_type": "markdown",
   "metadata": {},
   "source": [
    "In straight poker, each player is dealt 5 cards face down from a deck of 52 playing cards. We pose three questions:\n",
    "\n",
    "1. What is the probability of being dealt four of a kind?\n",
    "2. What is the probability of being dealt a flush?\n",
    "3. What is the probabiltiy of being dealt a straight flush?\n"
   ]
  },
  {
   "cell_type": "markdown",
   "metadata": {},
   "source": [
    "The probabilities can be calculated as follows:"
   ]
  },
  {
   "cell_type": "code",
   "execution_count": 1,
   "metadata": {},
   "outputs": [
    {
     "name": "stdout",
     "output_type": "stream",
     "text": [
      "The probability of being dealt four of a kind is: 0.000240 (0.024%)\n",
      "The probability of being dealt flush is: 0.001981 (0.198%)\n",
      "The probability of being dealt straight flush is: 0.000015 (0.002%)\n"
     ]
    }
   ],
   "source": [
    "from numpy import arange\n",
    "from itertools import combinations\n",
    "\n",
    "deck = arange(0, 52)\n",
    "suit = arange(0, 13)\n",
    "\n",
    "hands = len(list(combinations(deck, 5)))\n",
    "flush = len(list(combinations(suit, 5)))\n",
    "\n",
    "four_of_a_kind = (13*48)/hands\n",
    "print(\"The probability of being dealt four of a kind is: %.6f (%.3f%%)\" % (four_of_a_kind, four_of_a_kind*100))\n",
    "\n",
    "flush = (4*flush)/hands\n",
    "print(\"The probability of being dealt flush is: %.6f (%.3f%%)\" % (flush, flush*100))\n",
    "\n",
    "straight_flush = (4*10)/hands\n",
    "print(\"The probability of being dealt straight flush is: %.6f (%.3f%%)\" % (straight_flush, straight_flush*100))\n"
   ]
  }
 ],
 "metadata": {
  "kernelspec": {
   "display_name": "Python 3 (ipykernel)",
   "language": "python",
   "name": "python3"
  },
  "language_info": {
   "codemirror_mode": {
    "name": "ipython",
    "version": 3
   },
   "file_extension": ".py",
   "mimetype": "text/x-python",
   "name": "python",
   "nbconvert_exporter": "python",
   "pygments_lexer": "ipython3",
   "version": "3.10.8"
  }
 },
 "nbformat": 4,
 "nbformat_minor": 4
}
