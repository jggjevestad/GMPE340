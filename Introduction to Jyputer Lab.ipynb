{
 "cells": [
  {
   "cell_type": "markdown",
   "id": "1b79f903-37c8-4c46-bba8-de45dab35405",
   "metadata": {},
   "source": [
    "# Introduction to Jupyter Lab\n",
    "\n",
    "## Example 1"
   ]
  },
  {
   "cell_type": "code",
   "execution_count": 1,
   "id": "3ef36d54-638e-4119-9ebe-a1434181b517",
   "metadata": {},
   "outputs": [
    {
     "name": "stdout",
     "output_type": "stream",
     "text": [
      "The mean value is: 50.24 m\n"
     ]
    }
   ],
   "source": [
    "from numpy import mean\n",
    "\n",
    "dist = [51.34, 48.17, 49.02, 50.97, 51.23, 50.72, 48.95, 49.45, 52.07, 50.52]\n",
    "print(f\"The mean value is: {mean(dist):.2f} m\")"
   ]
  },
  {
   "cell_type": "markdown",
   "id": "487004b0-c434-4f2d-90ff-eaa376da4271",
   "metadata": {},
   "source": [
    "## Example 2"
   ]
  },
  {
   "cell_type": "code",
   "execution_count": 2,
   "id": "029e0921-0f26-486c-9f03-95058ae14f11",
   "metadata": {},
   "outputs": [
    {
     "data": {
      "text/latex": [
       "$\\displaystyle \\frac{16 \\sqrt{2}}{s^{4} + 64}$"
      ],
      "text/plain": [
       "16*sqrt(2)/(s**4 + 64)"
      ]
     },
     "metadata": {},
     "output_type": "display_data"
    }
   ],
   "source": [
    "from sympy import symbols, factor, sqrt\n",
    "\n",
    "s, Sx = symbols('s Sx')\n",
    "\n",
    "Sx = 16*sqrt(2)/(s**4 + 64)\n",
    "display(Sx)"
   ]
  },
  {
   "cell_type": "code",
   "execution_count": 3,
   "id": "c7794196-9a64-4693-ae5e-1664ba0cfe40",
   "metadata": {},
   "outputs": [
    {
     "data": {
      "text/latex": [
       "$\\displaystyle \\frac{16 \\sqrt{2}}{\\left(s^{2} - 4 s + 8\\right) \\left(s^{2} + 4 s + 8\\right)}$"
      ],
      "text/plain": [
       "16*sqrt(2)/((s**2 - 4*s + 8)*(s**2 + 4*s + 8))"
      ]
     },
     "execution_count": 3,
     "metadata": {},
     "output_type": "execute_result"
    }
   ],
   "source": [
    "factor(Sx)"
   ]
  },
  {
   "cell_type": "code",
   "execution_count": 4,
   "id": "e37c0687-fbca-4795-8a3e-aa4238d01f74",
   "metadata": {},
   "outputs": [
    {
     "data": {
      "image/png": "[encoded data removed]",
      "text/plain": [
       "<Figure size 432x288 with 1 Axes>"
      ]
     },
     "metadata": {
      "needs_background": "light"
     },
     "output_type": "display_data"
    }
   ],
   "source": [
    "from sympy import Eq, symbols, solveset, plot\n",
    "\n",
    "x, y = symbols('x y')\n",
    "\n",
    "f1 = 3*x**2 - 2*x - 3\n",
    "f2 = -4*x + 15\n",
    "\n",
    "p1 = plot(f1, f2, (x, -5 ,5))"
   ]
  },
  {
   "cell_type": "code",
   "execution_count": 5,
   "id": "cdc25385-9a17-4c7e-956f-f5fe3e551c9e",
   "metadata": {},
   "outputs": [
    {
     "data": {
      "text/latex": [
       "$\\displaystyle \\left\\{\\frac{1}{3} - \\frac{\\sqrt{10}}{3}, \\frac{1}{3} + \\frac{\\sqrt{10}}{3}\\right\\}$"
      ],
      "text/plain": [
       "{1/3 - sqrt(10)/3, 1/3 + sqrt(10)/3}"
      ]
     },
     "metadata": {},
     "output_type": "display_data"
    }
   ],
   "source": [
    "s1 = solveset(Eq(f1, 0), x)\n",
    "display(s1)"
   ]
  },
  {
   "cell_type": "code",
   "execution_count": 6,
   "id": "4aa27a90-78f0-4b5d-967b-ef756d996ca0",
   "metadata": {},
   "outputs": [
    {
     "data": {
      "text/latex": [
       "$\\displaystyle \\left\\{\\frac{15}{4}\\right\\}$"
      ],
      "text/plain": [
       "{15/4}"
      ]
     },
     "metadata": {},
     "output_type": "display_data"
    }
   ],
   "source": [
    "s2 = solveset(Eq(f2, 0), x)\n",
    "display(s2)"
   ]
  },
  {
   "cell_type": "code",
   "execution_count": 7,
   "id": "6739b32c-52c4-49f4-be3b-8e966c0e9f93",
   "metadata": {},
   "outputs": [
    {
     "data": {
      "text/latex": [
       "$\\displaystyle \\left\\{- \\frac{1}{3} + \\frac{\\sqrt{55}}{3}, - \\frac{\\sqrt{55}}{3} - \\frac{1}{3}\\right\\}$"
      ],
      "text/plain": [
       "{-1/3 + sqrt(55)/3, -sqrt(55)/3 - 1/3}"
      ]
     },
     "metadata": {},
     "output_type": "display_data"
    }
   ],
   "source": [
    "s3 = solveset(Eq(f1, f2), x)\n",
    "display(s3)"
   ]
  },
  {
   "cell_type": "markdown",
   "id": "d350add3-9e99-40de-a43b-5691dcc3a1ce",
   "metadata": {},
   "source": [
    "## Example 3"
   ]
  },
  {
   "cell_type": "code",
   "execution_count": 8,
   "id": "f35eca5a-0f49-40fa-a4b9-5b52ae269ce8",
   "metadata": {},
   "outputs": [
    {
     "data": {
      "text/latex": [
       "$\\displaystyle \\frac{x^{4} \\left(1 - x\\right)^{4}}{x^{2} + 1}$"
      ],
      "text/plain": [
       "x**4*(1 - x)**4/(x**2 + 1)"
      ]
     },
     "metadata": {},
     "output_type": "display_data"
    }
   ],
   "source": [
    "from sympy import symbols, cos, Integral, integrate\n",
    "\n",
    "x = symbols('x')\n",
    "\n",
    "f = x**4*(1 - x)**4/(1 + x**2)\n",
    "display(f)"
   ]
  },
  {
   "cell_type": "code",
   "execution_count": 9,
   "id": "6f6a7db0-e144-413b-a946-df78e810fb8a",
   "metadata": {},
   "outputs": [
    {
     "data": {
      "text/latex": [
       "$\\displaystyle \\int \\frac{x^{4} \\left(1 - x\\right)^{4}}{x^{2} + 1}\\, dx$"
      ],
      "text/plain": [
       "Integral(x**4*(1 - x)**4/(x**2 + 1), x)"
      ]
     },
     "metadata": {},
     "output_type": "display_data"
    }
   ],
   "source": [
    "F = Integral(f, x)\n",
    "display(F)"
   ]
  },
  {
   "cell_type": "code",
   "execution_count": 10,
   "id": "e68aedda-982c-4f4b-9af4-cef325d6ad29",
   "metadata": {},
   "outputs": [
    {
     "data": {
      "text/latex": [
       "$\\displaystyle \\frac{x^{7}}{7} - \\frac{2 x^{6}}{3} + x^{5} - \\frac{4 x^{3}}{3} + 4 x - 4 \\operatorname{atan}{\\left(x \\right)}$"
      ],
      "text/plain": [
       "x**7/7 - 2*x**6/3 + x**5 - 4*x**3/3 + 4*x - 4*atan(x)"
      ]
     },
     "execution_count": 10,
     "metadata": {},
     "output_type": "execute_result"
    }
   ],
   "source": [
    "F.doit()"
   ]
  },
  {
   "cell_type": "code",
   "execution_count": 11,
   "id": "b9cb88ee-95a1-4dee-9126-dad4cecd0108",
   "metadata": {},
   "outputs": [
    {
     "data": {
      "text/latex": [
       "$\\displaystyle \\frac{22}{7} - \\pi$"
      ],
      "text/plain": [
       "22/7 - pi"
      ]
     },
     "execution_count": 11,
     "metadata": {},
     "output_type": "execute_result"
    }
   ],
   "source": [
    "integrate(f, (x, 0, 1))"
   ]
  },
  {
   "cell_type": "markdown",
   "id": "bdff009a-6c6a-4994-8044-e732190f1ed6",
   "metadata": {},
   "source": [
    "## Example 4"
   ]
  },
  {
   "cell_type": "code",
   "execution_count": 12,
   "id": "f2c911c6-9250-4961-a5ae-6d1c460540ec",
   "metadata": {},
   "outputs": [
    {
     "data": {
      "text/latex": [
       "$\\displaystyle \\sin^{2}{\\left(x \\right)} + \\cos^{2}{\\left(x \\right)}$"
      ],
      "text/plain": [
       "sin(x)**2 + cos(x)**2"
      ]
     },
     "metadata": {},
     "output_type": "display_data"
    }
   ],
   "source": [
    "from sympy import symbols, simplify, expand, sin, cos\n",
    "\n",
    "x = symbols('x')\n",
    "\n",
    "f1 = sin(x)**2 + cos(x)**2\n",
    "display(f1)"
   ]
  },
  {
   "cell_type": "code",
   "execution_count": 13,
   "id": "997e275b-0e8f-4d67-8f9e-316fc3d28766",
   "metadata": {},
   "outputs": [
    {
     "data": {
      "text/latex": [
       "$\\displaystyle 1$"
      ],
      "text/plain": [
       "1"
      ]
     },
     "metadata": {},
     "output_type": "display_data"
    }
   ],
   "source": [
    "display(simplify(f1))"
   ]
  },
  {
   "cell_type": "code",
   "execution_count": 14,
   "id": "9194f03f-939d-48f9-9f6b-96a286606517",
   "metadata": {},
   "outputs": [
    {
     "data": {
      "text/latex": [
       "$\\displaystyle \\left(x - 1\\right)^{2}$"
      ],
      "text/plain": [
       "(x - 1)**2"
      ]
     },
     "metadata": {},
     "output_type": "display_data"
    }
   ],
   "source": [
    "f2 = (x - 1)**2\n",
    "display(f2)"
   ]
  },
  {
   "cell_type": "code",
   "execution_count": 15,
   "id": "91fd3c82-8479-43ac-b10d-30bed6abe55c",
   "metadata": {},
   "outputs": [
    {
     "data": {
      "text/latex": [
       "$\\displaystyle x^{2} - 2 x + 1$"
      ],
      "text/plain": [
       "x**2 - 2*x + 1"
      ]
     },
     "metadata": {},
     "output_type": "display_data"
    }
   ],
   "source": [
    "display(expand(f2))"
   ]
  },
  {
   "cell_type": "markdown",
   "id": "dae6fbe9-a452-47f3-a389-0e1a6088bb5b",
   "metadata": {},
   "source": [
    "## Example 5"
   ]
  },
  {
   "cell_type": "code",
   "execution_count": 16,
   "id": "c3822189-3210-48d0-b96a-b5c93605a4e4",
   "metadata": {},
   "outputs": [
    {
     "data": {
      "text/latex": [
       "$\\displaystyle \\frac{x + 1}{\\left(x - 1\\right)^{2}}$"
      ],
      "text/plain": [
       "(x + 1)/(x - 1)**2"
      ]
     },
     "metadata": {},
     "output_type": "display_data"
    }
   ],
   "source": [
    "from sympy import symbols, solve, expand, simplify, diff, Eq, sqrt\n",
    "\n",
    "x = symbols('x')\n",
    "\n",
    "y = (x + 1)/(x - 1)**2\n",
    "display(y)"
   ]
  },
  {
   "cell_type": "code",
   "execution_count": 17,
   "id": "3411dcd6-702e-4063-a25a-bbdf99e07ad0",
   "metadata": {},
   "outputs": [
    {
     "data": {
      "text/latex": [
       "$\\displaystyle x > \\frac{3}{5} \\wedge x < \\frac{3}{2} \\wedge x \\neq 1$"
      ],
      "text/plain": [
       "(x > 3/5) & (x < 3/2) & Ne(x, 1)"
      ]
     },
     "execution_count": 17,
     "metadata": {},
     "output_type": "execute_result"
    }
   ],
   "source": [
    "solve(y > 10, x)"
   ]
  },
  {
   "cell_type": "code",
   "execution_count": 18,
   "id": "4ab59ee2-1fb9-4a1b-88aa-ff1ca11555dd",
   "metadata": {},
   "outputs": [
    {
     "data": {
      "text/latex": [
       "$\\displaystyle \\frac{x}{x^{2} - 2 x + 1} + \\frac{1}{x^{2} - 2 x + 1}$"
      ],
      "text/plain": [
       "x/(x**2 - 2*x + 1) + 1/(x**2 - 2*x + 1)"
      ]
     },
     "execution_count": 18,
     "metadata": {},
     "output_type": "execute_result"
    }
   ],
   "source": [
    "expand(y)"
   ]
  },
  {
   "cell_type": "code",
   "execution_count": 19,
   "id": "0d813139-e4e6-4d2a-8a0a-8a70f0bcd27f",
   "metadata": {},
   "outputs": [
    {
     "data": {
      "text/latex": [
       "$\\displaystyle \\frac{1}{\\left(x - 1\\right)^{2}} - \\frac{2 \\left(x + 1\\right)}{\\left(x - 1\\right)^{3}}$"
      ],
      "text/plain": [
       "(x - 1)**(-2) - 2*(x + 1)/(x - 1)**3"
      ]
     },
     "metadata": {},
     "output_type": "display_data"
    }
   ],
   "source": [
    "dy = diff(y, x)\n",
    "display(dy)"
   ]
  },
  {
   "cell_type": "code",
   "execution_count": 20,
   "id": "149c5f6e-dd9a-43f1-9dd6-8e3744bf1a95",
   "metadata": {},
   "outputs": [
    {
     "data": {
      "text/plain": [
       "[-3]"
      ]
     },
     "execution_count": 20,
     "metadata": {},
     "output_type": "execute_result"
    }
   ],
   "source": [
    "solve(Eq(dy, 0), x)"
   ]
  }
 ],
 "metadata": {
  "kernelspec": {
   "display_name": "Python 3 (ipykernel)",
   "language": "python",
   "name": "python3"
  },
  "language_info": {
   "codemirror_mode": {
    "name": "ipython",
    "version": 3
   },
   "file_extension": ".py",
   "mimetype": "text/x-python",
   "name": "python",
   "nbconvert_exporter": "python",
   "pygments_lexer": "ipython3",
   "version": "3.10.8"
  }
 },
 "nbformat": 4,
 "nbformat_minor": 5
}
